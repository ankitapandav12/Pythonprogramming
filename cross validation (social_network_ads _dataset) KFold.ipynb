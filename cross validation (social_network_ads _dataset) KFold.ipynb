{
 "cells": [
  {
   "cell_type": "code",
   "execution_count": 1,
   "metadata": {},
   "outputs": [],
   "source": [
    "import pandas as pd\n",
    "import numpy as np"
   ]
  },
  {
   "cell_type": "code",
   "execution_count": 2,
   "metadata": {},
   "outputs": [
    {
     "data": {
      "text/html": [
       "<div>\n",
       "<style scoped>\n",
       "    .dataframe tbody tr th:only-of-type {\n",
       "        vertical-align: middle;\n",
       "    }\n",
       "\n",
       "    .dataframe tbody tr th {\n",
       "        vertical-align: top;\n",
       "    }\n",
       "\n",
       "    .dataframe thead th {\n",
       "        text-align: right;\n",
       "    }\n",
       "</style>\n",
       "<table border=\"1\" class=\"dataframe\">\n",
       "  <thead>\n",
       "    <tr style=\"text-align: right;\">\n",
       "      <th></th>\n",
       "      <th>Age</th>\n",
       "      <th>EstimatedSalary</th>\n",
       "      <th>Purchased</th>\n",
       "    </tr>\n",
       "  </thead>\n",
       "  <tbody>\n",
       "    <tr>\n",
       "      <th>0</th>\n",
       "      <td>19</td>\n",
       "      <td>19000</td>\n",
       "      <td>0</td>\n",
       "    </tr>\n",
       "    <tr>\n",
       "      <th>1</th>\n",
       "      <td>35</td>\n",
       "      <td>20000</td>\n",
       "      <td>0</td>\n",
       "    </tr>\n",
       "    <tr>\n",
       "      <th>2</th>\n",
       "      <td>26</td>\n",
       "      <td>43000</td>\n",
       "      <td>0</td>\n",
       "    </tr>\n",
       "    <tr>\n",
       "      <th>3</th>\n",
       "      <td>27</td>\n",
       "      <td>57000</td>\n",
       "      <td>0</td>\n",
       "    </tr>\n",
       "    <tr>\n",
       "      <th>4</th>\n",
       "      <td>19</td>\n",
       "      <td>76000</td>\n",
       "      <td>0</td>\n",
       "    </tr>\n",
       "    <tr>\n",
       "      <th>...</th>\n",
       "      <td>...</td>\n",
       "      <td>...</td>\n",
       "      <td>...</td>\n",
       "    </tr>\n",
       "    <tr>\n",
       "      <th>395</th>\n",
       "      <td>46</td>\n",
       "      <td>41000</td>\n",
       "      <td>1</td>\n",
       "    </tr>\n",
       "    <tr>\n",
       "      <th>396</th>\n",
       "      <td>51</td>\n",
       "      <td>23000</td>\n",
       "      <td>1</td>\n",
       "    </tr>\n",
       "    <tr>\n",
       "      <th>397</th>\n",
       "      <td>50</td>\n",
       "      <td>20000</td>\n",
       "      <td>1</td>\n",
       "    </tr>\n",
       "    <tr>\n",
       "      <th>398</th>\n",
       "      <td>36</td>\n",
       "      <td>33000</td>\n",
       "      <td>0</td>\n",
       "    </tr>\n",
       "    <tr>\n",
       "      <th>399</th>\n",
       "      <td>49</td>\n",
       "      <td>36000</td>\n",
       "      <td>1</td>\n",
       "    </tr>\n",
       "  </tbody>\n",
       "</table>\n",
       "<p>400 rows × 3 columns</p>\n",
       "</div>"
      ],
      "text/plain": [
       "     Age  EstimatedSalary  Purchased\n",
       "0     19            19000          0\n",
       "1     35            20000          0\n",
       "2     26            43000          0\n",
       "3     27            57000          0\n",
       "4     19            76000          0\n",
       "..   ...              ...        ...\n",
       "395   46            41000          1\n",
       "396   51            23000          1\n",
       "397   50            20000          1\n",
       "398   36            33000          0\n",
       "399   49            36000          1\n",
       "\n",
       "[400 rows x 3 columns]"
      ]
     },
     "execution_count": 2,
     "metadata": {},
     "output_type": "execute_result"
    }
   ],
   "source": [
    "data=pd.read_csv(r\"C:\\Users\\Sushant\\Desktop\\Ankita\\Datasets\\Social_Network_Ads.csv\")\n",
    "data"
   ]
  },
  {
   "cell_type": "code",
   "execution_count": 3,
   "metadata": {},
   "outputs": [
    {
     "name": "stdout",
     "output_type": "stream",
     "text": [
      "<class 'pandas.core.frame.DataFrame'>\n",
      "RangeIndex: 400 entries, 0 to 399\n",
      "Data columns (total 3 columns):\n",
      " #   Column           Non-Null Count  Dtype\n",
      "---  ------           --------------  -----\n",
      " 0   Age              400 non-null    int64\n",
      " 1   EstimatedSalary  400 non-null    int64\n",
      " 2   Purchased        400 non-null    int64\n",
      "dtypes: int64(3)\n",
      "memory usage: 9.5 KB\n"
     ]
    }
   ],
   "source": [
    "data.info()"
   ]
  },
  {
   "cell_type": "code",
   "execution_count": 4,
   "metadata": {},
   "outputs": [
    {
     "data": {
      "text/plain": [
       "Age                0\n",
       "EstimatedSalary    0\n",
       "Purchased          0\n",
       "dtype: int64"
      ]
     },
     "execution_count": 4,
     "metadata": {},
     "output_type": "execute_result"
    }
   ],
   "source": [
    "data.isnull().sum()"
   ]
  },
  {
   "cell_type": "code",
   "execution_count": 5,
   "metadata": {},
   "outputs": [],
   "source": [
    "x=data.iloc[:,:-1].values\n",
    "y=data.iloc[:,-1].values"
   ]
  },
  {
   "cell_type": "code",
   "execution_count": 6,
   "metadata": {},
   "outputs": [
    {
     "name": "stdout",
     "output_type": "stream",
     "text": [
      "KFold(n_splits=2, random_state=10, shuffle=True)\n"
     ]
    }
   ],
   "source": [
    "from sklearn.model_selection import KFold\n",
    "kf=KFold(n_splits=2,random_state=10,shuffle=True)\n",
    "kf.get_n_splits(x)\n",
    "print(kf)"
   ]
  },
  {
   "cell_type": "code",
   "execution_count": 7,
   "metadata": {},
   "outputs": [
    {
     "name": "stdout",
     "output_type": "stream",
     "text": [
      "TRAIN: [  2   3   4   7   8   9  11  13  14  15  16  18  22  23  28  30  31  32\n",
      "  33  39  40  41  42  44  45  46  48  51  53  54  62  67  71  73  74  77\n",
      "  79  82  84  85  86  89  90  91  93  94  95  96 103 112 115 116 118 120\n",
      " 122 123 125 128 133 134 135 136 137 140 141 143 144 145 150 153 156 158\n",
      " 159 160 161 162 165 168 169 171 176 177 178 179 180 182 185 186 190 193\n",
      " 196 197 198 200 201 203 204 206 209 213 215 216 217 220 221 224 228 229\n",
      " 232 233 234 235 237 239 243 244 246 248 250 254 255 256 257 259 263 265\n",
      " 267 268 270 271 272 273 277 282 283 284 285 286 287 289 290 292 296 297\n",
      " 305 306 307 309 310 312 313 314 315 317 319 320 321 322 324 325 327 333\n",
      " 334 335 336 337 338 341 342 344 345 347 348 350 353 354 356 358 359 361\n",
      " 363 364 365 368 369 370 371 375 378 381 382 383 384 386 389 391 393 394\n",
      " 395 397] TEST: [  0   1   5   6  10  12  17  19  20  21  24  25  26  27  29  34  35  36\n",
      "  37  38  43  47  49  50  52  55  56  57  58  59  60  61  63  64  65  66\n",
      "  68  69  70  72  75  76  78  80  81  83  87  88  92  97  98  99 100 101\n",
      " 102 104 105 106 107 108 109 110 111 113 114 117 119 121 124 126 127 129\n",
      " 130 131 132 138 139 142 146 147 148 149 151 152 154 155 157 163 164 166\n",
      " 167 170 172 173 174 175 181 183 184 187 188 189 191 192 194 195 199 202\n",
      " 205 207 208 210 211 212 214 218 219 222 223 225 226 227 230 231 236 238\n",
      " 240 241 242 245 247 249 251 252 253 258 260 261 262 264 266 269 274 275\n",
      " 276 278 279 280 281 288 291 293 294 295 298 299 300 301 302 303 304 308\n",
      " 311 316 318 323 326 328 329 330 331 332 339 340 343 346 349 351 352 355\n",
      " 357 360 362 366 367 372 373 374 376 377 379 380 385 387 388 390 392 396\n",
      " 398 399]\n",
      "TRAIN: [  0   1   5   6  10  12  17  19  20  21  24  25  26  27  29  34  35  36\n",
      "  37  38  43  47  49  50  52  55  56  57  58  59  60  61  63  64  65  66\n",
      "  68  69  70  72  75  76  78  80  81  83  87  88  92  97  98  99 100 101\n",
      " 102 104 105 106 107 108 109 110 111 113 114 117 119 121 124 126 127 129\n",
      " 130 131 132 138 139 142 146 147 148 149 151 152 154 155 157 163 164 166\n",
      " 167 170 172 173 174 175 181 183 184 187 188 189 191 192 194 195 199 202\n",
      " 205 207 208 210 211 212 214 218 219 222 223 225 226 227 230 231 236 238\n",
      " 240 241 242 245 247 249 251 252 253 258 260 261 262 264 266 269 274 275\n",
      " 276 278 279 280 281 288 291 293 294 295 298 299 300 301 302 303 304 308\n",
      " 311 316 318 323 326 328 329 330 331 332 339 340 343 346 349 351 352 355\n",
      " 357 360 362 366 367 372 373 374 376 377 379 380 385 387 388 390 392 396\n",
      " 398 399] TEST: [  2   3   4   7   8   9  11  13  14  15  16  18  22  23  28  30  31  32\n",
      "  33  39  40  41  42  44  45  46  48  51  53  54  62  67  71  73  74  77\n",
      "  79  82  84  85  86  89  90  91  93  94  95  96 103 112 115 116 118 120\n",
      " 122 123 125 128 133 134 135 136 137 140 141 143 144 145 150 153 156 158\n",
      " 159 160 161 162 165 168 169 171 176 177 178 179 180 182 185 186 190 193\n",
      " 196 197 198 200 201 203 204 206 209 213 215 216 217 220 221 224 228 229\n",
      " 232 233 234 235 237 239 243 244 246 248 250 254 255 256 257 259 263 265\n",
      " 267 268 270 271 272 273 277 282 283 284 285 286 287 289 290 292 296 297\n",
      " 305 306 307 309 310 312 313 314 315 317 319 320 321 322 324 325 327 333\n",
      " 334 335 336 337 338 341 342 344 345 347 348 350 353 354 356 358 359 361\n",
      " 363 364 365 368 369 370 371 375 378 381 382 383 384 386 389 391 393 394\n",
      " 395 397]\n"
     ]
    }
   ],
   "source": [
    "for train_index,test_index in kf.split(x):\n",
    "    print(\"TRAIN:\",train_index,\"TEST:\",test_index)\n",
    "    x_train,x_test=x[train_index],x[test_index]\n",
    "    y_train,y_test=y[train_index],y[test_index]"
   ]
  },
  {
   "cell_type": "code",
   "execution_count": 8,
   "metadata": {},
   "outputs": [
    {
     "name": "stdout",
     "output_type": "stream",
     "text": [
      "[0.69 0.61]\n",
      "64.99999999999999\n"
     ]
    }
   ],
   "source": [
    "from sklearn.linear_model import LogisticRegression\n",
    "l1=LogisticRegression()\n",
    "from sklearn.model_selection import cross_val_score\n",
    "scores=cross_val_score(l1,x_train,y_train,cv=kf)\n",
    "print(scores)\n",
    "print(np.mean(scores)*100)"
   ]
  },
  {
   "cell_type": "code",
   "execution_count": 10,
   "metadata": {},
   "outputs": [
    {
     "name": "stdout",
     "output_type": "stream",
     "text": [
      "[0 1 0 0 0 1 0 1 0 0 1 0 0 0 1 0 0 1 0 1 1 1 0 0 1 0 0 0 0 1 0 0 1 0 0 1 0\n",
      " 0 1 0 0 1 0 0 0 0 1 1 0 1 0 1 1 1 0 1 1 0 0 1 0 0 0 0 0 0 1 0 1 1 1 0 0 0\n",
      " 0 1 0 0 1 0 1 1 1 1 1 0 0 0 0 0 1 1 0 0 0 1 0 0 1 1 0 1 1 1 0 1 0 0 0 1 0\n",
      " 1 0 0 1 0 1 1 0 1 1 1 0 0 1 0 0 0 0 0 1 0 0 0 0 0 1 0 0 0 0 0 1 0 0 0 0 1\n",
      " 0 0 0 0 1 0 1 0 0 0 0 1 0 1 1 1 0 1 1 1 0 1 1 0 1 0 1 0 0 0 1 0 0 0 0 0 1\n",
      " 1 0 0 1 0 0 0 0 1 1 0 1 0 1 1]\n"
     ]
    }
   ],
   "source": [
    "from sklearn.model_selection import cross_val_predict\n",
    "y_pred=cross_val_predict(l1,x_test,y_test,cv=kf)\n",
    "print(y_pred)"
   ]
  },
  {
   "cell_type": "code",
   "execution_count": null,
   "metadata": {},
   "outputs": [],
   "source": []
  }
 ],
 "metadata": {
  "kernelspec": {
   "display_name": "Python 3",
   "language": "python",
   "name": "python3"
  },
  "language_info": {
   "codemirror_mode": {
    "name": "ipython",
    "version": 3
   },
   "file_extension": ".py",
   "mimetype": "text/x-python",
   "name": "python",
   "nbconvert_exporter": "python",
   "pygments_lexer": "ipython3",
   "version": "3.7.6"
  }
 },
 "nbformat": 4,
 "nbformat_minor": 4
}
