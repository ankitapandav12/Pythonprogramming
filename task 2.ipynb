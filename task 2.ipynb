{
 "cells": [
  {
   "cell_type": "code",
   "execution_count": 1,
   "metadata": {},
   "outputs": [
    {
     "name": "stdout",
     "output_type": "stream",
     "text": [
      "DataScience\n",
      "DataScience\n",
      "DataScience\n",
      "DataScience\n",
      "DataScience\n",
      "DataScience\n",
      "DataScience\n",
      "DataScience\n",
      "DataScience\n",
      "DataScience\n"
     ]
    }
   ],
   "source": [
    "for x in range(10):\n",
    "    print(\"DataScience\")\n",
    "    "
   ]
  },
  {
   "cell_type": "code",
   "execution_count": 10,
   "metadata": {},
   "outputs": [
    {
     "name": "stdout",
     "output_type": "stream",
     "text": [
      "['ankita', 'kajal', 'renu', 'nikita']\n",
      "['ankita', 'kajal', 'renu']\n"
     ]
    }
   ],
   "source": [
    "a=[\"ankita\",\"kajal\",\"renu\",\"nikita\",\"sayali\"]\n",
    "for x in range(2):\n",
    "    a.pop()\n",
    "    print(a)\n"
   ]
  },
  {
   "cell_type": "code",
   "execution_count": 19,
   "metadata": {},
   "outputs": [
    {
     "name": "stdout",
     "output_type": "stream",
     "text": [
      "['kolhapur', 'pune', 'mumbai', 'satara']\n"
     ]
    }
   ],
   "source": [
    "x=[\"kolhapur\",\"pune\",\"mumbai\",\"satara\"]\n",
    "y=[\"kajal\",\"ankita\",\"renu\",\"nikita\"]\n",
    "z=[]\n",
    "\n",
    "for i in x:\n",
    "    z.append(i)\n",
    "\n",
    "print(z)"
   ]
  },
  {
   "cell_type": "code",
   "execution_count": 20,
   "metadata": {},
   "outputs": [
    {
     "name": "stdout",
     "output_type": "stream",
     "text": [
      "['kolhapur', 'pune', 'mumbai', 'satara']\n",
      "['kajal', 'ankita', 'renu', 'nikita']\n"
     ]
    }
   ],
   "source": [
    "x=[\"kolhapur\",\"pune\",\"mumbai\",\"satara\"]\n",
    "y=[\"kajal\",\"ankita\",\"renu\",\"nikita\"]\n",
    "z=[]\n",
    "z1=[]\n",
    "\n",
    "for i in x:\n",
    "    z.append(i)\n",
    "for i1 in y:\n",
    "    z1.append(i1)\n",
    "\n",
    "print(z)\n",
    "print(z1)"
   ]
  },
  {
   "cell_type": "code",
   "execution_count": 24,
   "metadata": {},
   "outputs": [
    {
     "name": "stdout",
     "output_type": "stream",
     "text": [
      "[20, 30, 40]\n",
      "[25, 35]\n"
     ]
    }
   ],
   "source": [
    "a=[20,30,40,25,35]\n",
    "even=[]\n",
    "odd=[]\n",
    "for x in a:\n",
    "    if(x%2==0):\n",
    "        even.append(x)\n",
    "    else:\n",
    "        odd.append(x)\n",
    "print(even)\n",
    "print(odd)\n",
    "        "
   ]
  },
  {
   "cell_type": "code",
   "execution_count": 27,
   "metadata": {},
   "outputs": [
    {
     "name": "stdout",
     "output_type": "stream",
     "text": [
      "[35, 25, 40, 30, 20]\n"
     ]
    }
   ],
   "source": [
    "a=[20,30,40,25,35]\n",
    "a[0],a[4]=a[4],a[0]\n",
    "a[1],a[3]=a[3],a[1]\n",
    "print(a)"
   ]
  },
  {
   "cell_type": "code",
   "execution_count": 37,
   "metadata": {},
   "outputs": [
    {
     "name": "stdout",
     "output_type": "stream",
     "text": [
      "[20, 30, 40]\n",
      "[25, 35]\n",
      "[20, 30, 40, 25, 35]\n"
     ]
    },
    {
     "data": {
      "text/plain": [
       "[20, 25, 30, 35, 40]"
      ]
     },
     "execution_count": 37,
     "metadata": {},
     "output_type": "execute_result"
    }
   ],
   "source": [
    "a=[20,30,40,25,35]\n",
    "even=[]\n",
    "odd=[]\n",
    "for x in a:\n",
    "    if(x%2==0):\n",
    "        even.append(x)\n",
    "    else:\n",
    "        odd.append(x)\n",
    "print(even)\n",
    "print(odd)\n",
    "b=even+odd\n",
    "print(b)\n",
    "b.sort()\n",
    "b"
   ]
  },
  {
   "cell_type": "code",
   "execution_count": 39,
   "metadata": {},
   "outputs": [
    {
     "data": {
      "text/plain": [
       "[20, 22, 30, 13, 41]"
      ]
     },
     "execution_count": 39,
     "metadata": {},
     "output_type": "execute_result"
    }
   ],
   "source": [
    "a=[22,13,41,20,30]\n",
    "even=[]\n",
    "odd=[]\n",
    "for x in a:\n",
    "    if(x%2==0):\n",
    "        even.append(x)\n",
    "    else:\n",
    "        odd.append(x)\n",
    "\n",
    "even.sort()\n",
    "odd.sort()\n",
    "b=even+odd\n",
    "b"
   ]
  },
  {
   "cell_type": "code",
   "execution_count": null,
   "metadata": {},
   "outputs": [],
   "source": []
  }
 ],
 "metadata": {
  "kernelspec": {
   "display_name": "Python 3",
   "language": "python",
   "name": "python3"
  },
  "language_info": {
   "codemirror_mode": {
    "name": "ipython",
    "version": 3
   },
   "file_extension": ".py",
   "mimetype": "text/x-python",
   "name": "python",
   "nbconvert_exporter": "python",
   "pygments_lexer": "ipython3",
   "version": "3.7.6"
  }
 },
 "nbformat": 4,
 "nbformat_minor": 4
}
