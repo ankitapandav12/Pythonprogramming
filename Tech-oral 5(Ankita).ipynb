{
 "cells": [
  {
   "cell_type": "markdown",
   "metadata": {},
   "source": [
    "# Q.Program on star pattern"
   ]
  },
  {
   "cell_type": "code",
   "execution_count": 1,
   "metadata": {},
   "outputs": [
    {
     "name": "stdout",
     "output_type": "stream",
     "text": [
      "* \n",
      "* * \n",
      "* * * \n",
      "* * * * \n",
      "* * * * * \n",
      "* * * * * * \n"
     ]
    }
   ],
   "source": [
    "for x in range(6):\n",
    "    for y in range(x+1):\n",
    "        print(\"*\",end=\" \")\n",
    "    print()    "
   ]
  },
  {
   "cell_type": "markdown",
   "metadata": {},
   "source": [
    "# Q.Program on star pattern"
   ]
  },
  {
   "cell_type": "code",
   "execution_count": 2,
   "metadata": {},
   "outputs": [
    {
     "name": "stdout",
     "output_type": "stream",
     "text": [
      "* \n",
      "* * \n",
      "* * * \n",
      "* * * * \n",
      "* * * * * \n",
      "* * * * * * \n",
      "* * * * * * * \n",
      "* * * * * * * * \n",
      "* * * * * * * * * \n",
      "* * * * * * * * \n",
      "* * * * * * * \n",
      "* * * * * * \n",
      "* * * * * \n",
      "* * * * \n",
      "* * * \n",
      "* * \n",
      "* \n"
     ]
    }
   ],
   "source": [
    "for x in range(8):\n",
    "    for y in range(x+1):\n",
    "        print(\"*\",end=\" \")\n",
    "    print()\n",
    "for x in range(9):\n",
    "    for y in range(9-x):\n",
    "        print(\"*\",end=\" \")\n",
    "    print()    \n",
    "        "
   ]
  },
  {
   "cell_type": "markdown",
   "metadata": {},
   "source": [
    "# Q.write a program on list,tuple,set,dictionary"
   ]
  },
  {
   "cell_type": "code",
   "execution_count": 3,
   "metadata": {},
   "outputs": [],
   "source": [
    "# List"
   ]
  },
  {
   "cell_type": "code",
   "execution_count": 4,
   "metadata": {},
   "outputs": [
    {
     "name": "stdout",
     "output_type": "stream",
     "text": [
      "<class 'list'>\n"
     ]
    }
   ],
   "source": [
    "name=[\"ankita\",\"sakshi\",\"sayali\",\"nikita\"]\n",
    "print(type(name))"
   ]
  },
  {
   "cell_type": "code",
   "execution_count": 5,
   "metadata": {},
   "outputs": [
    {
     "name": "stdout",
     "output_type": "stream",
     "text": [
      "4\n"
     ]
    }
   ],
   "source": [
    "name=[\"ankita\",\"sakshi\",\"sayali\",\"nikita\"]\n",
    "print(len(name))"
   ]
  },
  {
   "cell_type": "code",
   "execution_count": 6,
   "metadata": {},
   "outputs": [
    {
     "name": "stdout",
     "output_type": "stream",
     "text": [
      "['sakshi']\n"
     ]
    }
   ],
   "source": [
    "name=[\"ankita\",\"sakshi\",\"sayali\",\"nikita\"]\n",
    "xy=name[1:2]\n",
    "print(xy)"
   ]
  },
  {
   "cell_type": "code",
   "execution_count": 7,
   "metadata": {},
   "outputs": [
    {
     "name": "stdout",
     "output_type": "stream",
     "text": [
      "[]\n"
     ]
    }
   ],
   "source": [
    "name=[\"ankita\",\"sakshi\",\"sayali\",\"nikita\"]\n",
    "xy=name[-2:1]\n",
    "print(xy)"
   ]
  },
  {
   "cell_type": "code",
   "execution_count": 8,
   "metadata": {},
   "outputs": [
    {
     "name": "stdout",
     "output_type": "stream",
     "text": [
      "['ankita', 'sakshi', 'sayali', 'nikita', 'priya']\n"
     ]
    }
   ],
   "source": [
    "name=[\"ankita\",\"sakshi\",\"sayali\",\"nikita\"]\n",
    "name.append(\"priya\")\n",
    "print(name)\n"
   ]
  },
  {
   "cell_type": "code",
   "execution_count": 9,
   "metadata": {},
   "outputs": [
    {
     "name": "stdout",
     "output_type": "stream",
     "text": [
      "['ankita', 'sayali', 'nikita']\n"
     ]
    }
   ],
   "source": [
    "name=[\"ankita\",\"sakshi\",\"sayali\",\"nikita\"]\n",
    "name.remove(\"sakshi\")\n",
    "print(name)"
   ]
  },
  {
   "cell_type": "code",
   "execution_count": 10,
   "metadata": {},
   "outputs": [
    {
     "name": "stdout",
     "output_type": "stream",
     "text": [
      "['ankita', 'sakshi', 'shruti', 'sayali', 'nikita']\n"
     ]
    }
   ],
   "source": [
    "name=[\"ankita\",\"sakshi\",\"sayali\",\"nikita\"]\n",
    "name.insert(2,\"shruti\")\n",
    "print(name)\n"
   ]
  },
  {
   "cell_type": "code",
   "execution_count": 11,
   "metadata": {},
   "outputs": [
    {
     "data": {
      "text/plain": [
       "'nikita'"
      ]
     },
     "execution_count": 11,
     "metadata": {},
     "output_type": "execute_result"
    }
   ],
   "source": [
    "name=[\"ankita\",\"sakshi\",\"sayali\",\"nikita\"]\n",
    "name.pop()"
   ]
  },
  {
   "cell_type": "code",
   "execution_count": 12,
   "metadata": {},
   "outputs": [
    {
     "name": "stdout",
     "output_type": "stream",
     "text": [
      "['ankita', 'sakshi', 'sayali', 'nikita', 'ankita1', 'sakshi1', 'sayali1', 'nikita1']\n"
     ]
    }
   ],
   "source": [
    "name=[\"ankita\",\"sakshi\",\"sayali\",\"nikita\"]\n",
    "name1=[\"ankita1\",\"sakshi1\",\"sayali1\",\"nikita1\"]\n",
    "add=name+name1\n",
    "print(add)\n"
   ]
  },
  {
   "cell_type": "code",
   "execution_count": 13,
   "metadata": {},
   "outputs": [],
   "source": [
    "# Tuple"
   ]
  },
  {
   "cell_type": "code",
   "execution_count": 14,
   "metadata": {},
   "outputs": [
    {
     "name": "stdout",
     "output_type": "stream",
     "text": [
      "<class 'tuple'>\n"
     ]
    }
   ],
   "source": [
    "city=(\"kolhapur\",\"satara\",\"pune\",\"mumbai\")\n",
    "print(type(city))"
   ]
  },
  {
   "cell_type": "code",
   "execution_count": 15,
   "metadata": {},
   "outputs": [
    {
     "name": "stdout",
     "output_type": "stream",
     "text": [
      "4\n"
     ]
    }
   ],
   "source": [
    "city=(\"kolhapur\",\"satara\",\"pune\",\"mumbai\")\n",
    "print(len(city))"
   ]
  },
  {
   "cell_type": "code",
   "execution_count": 16,
   "metadata": {},
   "outputs": [],
   "source": [
    "# Set"
   ]
  },
  {
   "cell_type": "code",
   "execution_count": 17,
   "metadata": {},
   "outputs": [
    {
     "name": "stdout",
     "output_type": "stream",
     "text": [
      "<class 'set'>\n"
     ]
    }
   ],
   "source": [
    "name={\"amit\",\"priya\",\"akshay\",\"shree\",\"heena\"}\n",
    "print(type(name))"
   ]
  },
  {
   "cell_type": "code",
   "execution_count": 18,
   "metadata": {},
   "outputs": [
    {
     "name": "stdout",
     "output_type": "stream",
     "text": [
      "5\n"
     ]
    }
   ],
   "source": [
    "name={\"amit\",\"priya\",\"akshay\",\"shree\",\"heena\"}\n",
    "print(len(name))"
   ]
  },
  {
   "cell_type": "code",
   "execution_count": 19,
   "metadata": {},
   "outputs": [
    {
     "name": "stdout",
     "output_type": "stream",
     "text": [
      "{'akshay', 'satara', 'priya', 'amit', 'kolhapur', 'heena', 'pune', 'mumbai', 'shree'}\n"
     ]
    }
   ],
   "source": [
    "name={\"amit\",\"priya\",\"akshay\",\"shree\",\"heena\"}\n",
    "city={\"kolhapur\",\"satara\",\"pune\",\"mumbai\"}\n",
    "add=name.union(city)\n",
    "print(add)"
   ]
  },
  {
   "cell_type": "code",
   "execution_count": 20,
   "metadata": {},
   "outputs": [
    {
     "name": "stdout",
     "output_type": "stream",
     "text": [
      "{'akshay', 'xyz', 'priya', 'amit', 'heena', 'shree'}\n"
     ]
    }
   ],
   "source": [
    "name={\"amit\",\"priya\",\"akshay\",\"shree\",\"heena\"}\n",
    "name.add(\"xyz\")\n",
    "print(name)"
   ]
  },
  {
   "cell_type": "code",
   "execution_count": 21,
   "metadata": {},
   "outputs": [
    {
     "name": "stdout",
     "output_type": "stream",
     "text": [
      "{'akshay', 'priya', 'heena', 'shree'}\n"
     ]
    }
   ],
   "source": [
    "name={\"amit\",\"priya\",\"akshay\",\"shree\",\"heena\"}\n",
    "name.remove(\"amit\")\n",
    "print(name)"
   ]
  },
  {
   "cell_type": "code",
   "execution_count": 22,
   "metadata": {},
   "outputs": [
    {
     "name": "stdout",
     "output_type": "stream",
     "text": [
      "{'akshay', 'priya', 'amit', 'heena', 'shree'}\n"
     ]
    }
   ],
   "source": [
    "name={\"amit\",\"priya\",\"akshay\",\"shree\",\"heena\"}\n",
    "name.discard(\"xyz\")\n",
    "print(name)"
   ]
  },
  {
   "cell_type": "code",
   "execution_count": 23,
   "metadata": {},
   "outputs": [],
   "source": [
    "# Dictionary"
   ]
  },
  {
   "cell_type": "code",
   "execution_count": 24,
   "metadata": {},
   "outputs": [
    {
     "name": "stdout",
     "output_type": "stream",
     "text": [
      "{'Name': 'Ankita', 'Age': 23, 'Birth_date': 12}\n"
     ]
    }
   ],
   "source": [
    "details={\"Name\":\"Ankita\",\n",
    "        \"Age\":23,\n",
    "        \"Birth_date\":12}\n",
    "print(details)"
   ]
  },
  {
   "cell_type": "code",
   "execution_count": 25,
   "metadata": {},
   "outputs": [
    {
     "name": "stdout",
     "output_type": "stream",
     "text": [
      "<class 'dict'>\n"
     ]
    }
   ],
   "source": [
    "details={\"Name\":\"Ankita\",\n",
    "        \"Age\":23,\n",
    "        \"Birth_date\":12}\n",
    "print(type(details))"
   ]
  },
  {
   "cell_type": "code",
   "execution_count": 26,
   "metadata": {},
   "outputs": [
    {
     "name": "stdout",
     "output_type": "stream",
     "text": [
      "3\n"
     ]
    }
   ],
   "source": [
    "details={\"Name\":\"Ankita\",\n",
    "        \"Age\":23,\n",
    "        \"Birth_date\":12}\n",
    "print(len(details))"
   ]
  },
  {
   "cell_type": "code",
   "execution_count": 27,
   "metadata": {},
   "outputs": [
    {
     "name": "stdout",
     "output_type": "stream",
     "text": [
      "{'Name': 'Ankita', 'Age': 23, 'Birth_date': 12, 'Fav_color': 'Black'}\n"
     ]
    }
   ],
   "source": [
    "details={\"Name\":\"Ankita\",\n",
    "        \"Age\":23,\n",
    "        \"Birth_date\":12}\n",
    "details[\"Fav_color\"]=\"Black\"\n",
    "print(details)"
   ]
  },
  {
   "cell_type": "markdown",
   "metadata": {},
   "source": [
    "# Q.class program"
   ]
  },
  {
   "cell_type": "code",
   "execution_count": 34,
   "metadata": {},
   "outputs": [
    {
     "name": "stdout",
     "output_type": "stream",
     "text": [
      "Enter the Registration no.:1\n",
      "Enter the Name:ankita\n",
      "Enter the user name:abc\n",
      "Enter the Login ID:ank@123\n",
      "Enter the Password456\n",
      "----------------------------------------------\n",
      "Enter the Registration no.:2\n",
      "Enter the Name:nikita\n",
      "Enter the user name:xyz\n",
      "Enter the Login ID:nik@678\n",
      "Enter the Password987\n",
      "----------------------------------------------\n"
     ]
    }
   ],
   "source": [
    "class details:\n",
    "    def __init__(self):\n",
    "        self.Regi_no = int(input(\"Enter the Registration no.:\"))\n",
    "        self.Name = input(\"Enter the Name:\")\n",
    "        self.User_name = input(\"Enter the user name:\")\n",
    "        self.Login_id = input(\"Enter the Login ID:\")\n",
    "        self.Password = int(input(\"Enter the Password\"))\n",
    "        print(\"----------------------------------------------\")\n",
    "for x in range(2):\n",
    "    details()"
   ]
  },
  {
   "cell_type": "code",
   "execution_count": 33,
   "metadata": {},
   "outputs": [
    {
     "name": "stdout",
     "output_type": "stream",
     "text": [
      "enter the value of a:20\n",
      "enter the value of b:20\n",
      "values false\n"
     ]
    }
   ],
   "source": [
    "class operation:\n",
    "    def add():\n",
    "        a2=int(input(\"enter the value of a:\"))\n",
    "        b2=int(input(\"enter the value of b:\"))\n",
    "        if a2==20 and b2==30:\n",
    "            print(\"values true\")\n",
    "        else:\n",
    "            print(\"values false\")\n",
    "    add()"
   ]
  },
  {
   "cell_type": "markdown",
   "metadata": {},
   "source": [
    "# Q.write a program on student marks 2 student names and each 5 subject marks. calculate the total and average "
   ]
  },
  {
   "cell_type": "code",
   "execution_count": 3,
   "metadata": {},
   "outputs": [
    {
     "name": "stdout",
     "output_type": "stream",
     "text": [
      "enter the marks:95\n",
      "enter the marks:75\n",
      "enter the marks:93\n",
      "enter the marks:64\n",
      "enter the marks:78\n",
      "[95, 75, 93, 64, 78]\n",
      "total_marks 405\n",
      "ankita's avg.. 81.0\n",
      "enter the marks98\n",
      "enter the marks93\n",
      "enter the marks45\n",
      "enter the marks78\n",
      "enter the marks95\n",
      "[98, 93, 45, 78, 95]\n",
      "total_marks 405\n",
      "nikita's avg.. 81.0\n"
     ]
    }
   ],
   "source": [
    "ab=[\"ankita\",\"nikita\"]\n",
    "marks=[]\n",
    "marks1=[]\n",
    "for x in ab:\n",
    "    if x==\"ankita\":\n",
    "        for y in range(5):\n",
    "            m=int(input(\"enter the marks:\"))\n",
    "            marks.append(m)\n",
    "            total=sum(marks)\n",
    "            avg=total/len(marks)\n",
    "        print(marks)\n",
    "        print(\"total_marks\",total)\n",
    "        print(\"ankita's avg..\",avg)\n",
    "        \n",
    "    elif x==\"nikita\":\n",
    "        for z in range(5):\n",
    "            m1=int(input(\"enter the marks\"))\n",
    "            marks1.append(m1)\n",
    "            total=sum(marks)\n",
    "            avg=total/len(marks)\n",
    "        print(marks1)\n",
    "        print(\"total_marks\",total)\n",
    "        print(\"nikita's avg..\",avg)\n",
    "        "
   ]
  },
  {
   "cell_type": "markdown",
   "metadata": {},
   "source": [
    "# Q. Function programming"
   ]
  },
  {
   "cell_type": "code",
   "execution_count": 5,
   "metadata": {},
   "outputs": [
    {
     "name": "stdout",
     "output_type": "stream",
     "text": [
      "Yes I am \n",
      "{44, 77, 140, 23, 56, 63}\n"
     ]
    }
   ],
   "source": [
    "def per():\n",
    "    name=[\"Nikita\",\"Ankita\",\"Sayali\",\"Pooja\",\"Amit\"]\n",
    "    for x in name:\n",
    "        if x==\"Ankita\":\n",
    "            print(\"Yes I am \")\n",
    "            return name\n",
    "        \n",
    "def abc():\n",
    "    ab=per()\n",
    "    a=60\n",
    "    b=80\n",
    "    c=a+b\n",
    "    return c\n",
    "\n",
    "def xyz():\n",
    "    aa=abc()\n",
    "    ad={56,23,77,63,44}\n",
    "    ad.add(aa)\n",
    "    print(ad)\n",
    "    \n",
    "xyz()  \n",
    "    "
   ]
  }
 ],
 "metadata": {
  "kernelspec": {
   "display_name": "Python 3",
   "language": "python",
   "name": "python3"
  },
  "language_info": {
   "codemirror_mode": {
    "name": "ipython",
    "version": 3
   },
   "file_extension": ".py",
   "mimetype": "text/x-python",
   "name": "python",
   "nbconvert_exporter": "python",
   "pygments_lexer": "ipython3",
   "version": "3.7.6"
  }
 },
 "nbformat": 4,
 "nbformat_minor": 4
}
