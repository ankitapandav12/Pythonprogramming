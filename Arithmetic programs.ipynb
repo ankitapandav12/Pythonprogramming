{
 "cells": [
  {
   "cell_type": "code",
   "execution_count": 1,
   "metadata": {},
   "outputs": [
    {
     "name": "stdout",
     "output_type": "stream",
     "text": [
      "enter the value of b:75\n",
      "enter the value of h:65\n",
      "Area Of Triangle: 2437.5\n"
     ]
    }
   ],
   "source": [
    "#area of Triangle = 1/2*(b*h)\n",
    "b=int(input(\"enter the value of b:\"))\n",
    "h=int(input(\"enter the value of h:\"))\n",
    "area_of_triangle = 1/2*(b*h)\n",
    "print(\"Area Of Triangle:\",area_of_triangle)\n"
   ]
  },
  {
   "cell_type": "code",
   "execution_count": 1,
   "metadata": {},
   "outputs": [
    {
     "name": "stdout",
     "output_type": "stream",
     "text": [
      "enter the value of a:45\n",
      "enter the value of b:40\n",
      "value is correct\n",
      "__________________________________\n",
      "enter the value of a:45\n",
      "enter the value of b:45\n",
      "value is incorrect\n",
      "__________________________________\n"
     ]
    }
   ],
   "source": [
    "for x in range(2):\n",
    "    a=int(input(\"enter the value of a:\"))\n",
    "    b=int(input(\"enter the value of b:\"))\n",
    "    if a>b:\n",
    "        print(\"value is correct\")\n",
    "    else:\n",
    "        print(\"value is incorrect\")\n",
    "    print(\"__________________________________\")    \n",
    "    "
   ]
  },
  {
   "cell_type": "code",
   "execution_count": 2,
   "metadata": {},
   "outputs": [
    {
     "name": "stdout",
     "output_type": "stream",
     "text": [
      "1\n",
      "2\n",
      "3\n",
      "4\n",
      "5\n"
     ]
    }
   ],
   "source": [
    "i = 1\n",
    "while i < 6:\n",
    "    print(i)\n",
    "    i += 1\n"
   ]
  },
  {
   "cell_type": "code",
   "execution_count": 4,
   "metadata": {},
   "outputs": [
    {
     "name": "stdout",
     "output_type": "stream",
     "text": [
      "Enter the name:ankita\n",
      "ankita\n",
      "Enter the name:kajal\n",
      "kajal\n"
     ]
    }
   ],
   "source": [
    "for x in range(2):\n",
    "    a=input(\"Enter the name:\")\n",
    "    print(a)"
   ]
  },
  {
   "cell_type": "code",
   "execution_count": 1,
   "metadata": {},
   "outputs": [
    {
     "name": "stdout",
     "output_type": "stream",
     "text": [
      "enter the value of a:75\n",
      "enter the value of b:5\n",
      "15.0\n",
      "***********************************\n",
      "enter the value of x:45\n",
      "enter the value of y:25\n",
      "1125\n"
     ]
    }
   ],
   "source": [
    "a=int(input(\"enter the value of a:\"))\n",
    "b=int(input(\"enter the value of b:\"))\n",
    "c=a/b\n",
    "print(c) \n",
    "print(\"***********************************\")\n",
    "\n",
    "x=int(input(\"enter the value of x:\"))\n",
    "y=int(input(\"enter the value of y:\"))\n",
    "z=x*y\n",
    "print(z)"
   ]
  },
  {
   "cell_type": "code",
   "execution_count": 1,
   "metadata": {},
   "outputs": [
    {
     "name": "stdout",
     "output_type": "stream",
     "text": [
      "enter the name:ankita\n",
      "enter the email_id:ank@1234\n",
      "enter the mobile_number:7896541230\n",
      "enter the password:123456\n",
      "Name: ankita Email ID: ank@1234 Mobile Number: 7896541230 Password: 123456\n",
      "_____________________________________________________________________________\n",
      "enter the name:kajal\n",
      "enter the email_id:kaj@07\n",
      "enter the mobile_number:9874563210\n",
      "enter the password:0705\n",
      "Name: kajal Email ID: kaj@07 Mobile Number: 9874563210 Password: 705\n",
      "_____________________________________________________________________________\n"
     ]
    }
   ],
   "source": [
    "for x in range(2):\n",
    "    def info():\n",
    "        name=input(\"enter the name:\")\n",
    "        email_id=input(\"enter the email_id:\")\n",
    "        mobile_number=int(input(\"enter the mobile_number:\"))\n",
    "        password=int(input(\"enter the password:\"))\n",
    "        print(\"Name:\",name,\"Email ID:\",email_id,\"Mobile Number:\",mobile_number,\"Password:\",password)\n",
    "        print(\"_____________________________________________________________________________\")\n",
    "    info()    \n",
    "    "
   ]
  },
  {
   "cell_type": "code",
   "execution_count": 3,
   "metadata": {},
   "outputs": [
    {
     "name": "stdout",
     "output_type": "stream",
     "text": [
      "enter the value45\n",
      "enter the value52\n",
      "97\n"
     ]
    }
   ],
   "source": [
    "class my:\n",
    "    def data(self):\n",
    "        self.a=int(input(\"enter the value\"))\n",
    "        self.b=int(input(\"enter the value\"))\n",
    "    def show(self):\n",
    "        print(self.a+self.b)\n",
    "obj= my()\n",
    "obj.data()\n",
    "obj.show()"
   ]
  },
  {
   "cell_type": "code",
   "execution_count": 4,
   "metadata": {},
   "outputs": [
    {
     "name": "stdout",
     "output_type": "stream",
     "text": [
      "Enter the name=ankita\n",
      "Enter the value=12\n",
      "ankita 12\n"
     ]
    }
   ],
   "source": [
    "class student:\n",
    "    def operation(self,name,num):\n",
    "        self.name=name\n",
    "        self.num=num\n",
    "        \n",
    "    def show(self):\n",
    "        print(self.name,self.num)\n",
    "\n",
    "a=input(\"Enter the name=\")\n",
    "b=int(input(\"Enter the value=\"))\n",
    "        \n",
    "o=student()\n",
    "o.operation(a,b)\n",
    "o.show()"
   ]
  },
  {
   "cell_type": "code",
   "execution_count": 3,
   "metadata": {},
   "outputs": [
    {
     "name": "stdout",
     "output_type": "stream",
     "text": [
      "enter the name:ankita\n",
      "enter the contact_number:7896541230\n",
      "enter the email_id:ank1234\n",
      "enter the n count:4\n",
      "enter the marks:99\n",
      "[99]\n",
      "NAME= ankita CONTACT NUMBER= 7896541230 EMAIL ID= ank1234 MARKS= 4\n",
      "enter the marks:88\n",
      "[99, 88]\n",
      "NAME= ankita CONTACT NUMBER= 7896541230 EMAIL ID= ank1234 MARKS= 4\n",
      "enter the marks:77\n",
      "[99, 88, 77]\n",
      "NAME= ankita CONTACT NUMBER= 7896541230 EMAIL ID= ank1234 MARKS= 4\n",
      "enter the marks:66\n",
      "[99, 88, 77, 66]\n",
      "NAME= ankita CONTACT NUMBER= 7896541230 EMAIL ID= ank1234 MARKS= 4\n"
     ]
    }
   ],
   "source": [
    "ab=[]\n",
    "class student:\n",
    "    def info(self):\n",
    "        a=input(\"enter the name:\")\n",
    "        b=int(input(\"enter the contact_number:\"))\n",
    "        c=input(\"enter the email_id:\")\n",
    "        d=int(input(\"enter the n count:\"))\n",
    "        \n",
    "        for x in range(d):\n",
    "            m=int(input(\"enter the marks:\"))\n",
    "            ab.append(m)\n",
    "            print(ab)\n",
    "            print(\"NAME=\",a,\"CONTACT NUMBER=\",b,\"EMAIL ID=\",c,\"MARKS=\",d)\n",
    "\n",
    "obj=student()\n",
    "obj.info()\n",
    "        "
   ]
  },
  {
   "cell_type": "code",
   "execution_count": 6,
   "metadata": {},
   "outputs": [
    {
     "name": "stdout",
     "output_type": "stream",
     "text": [
      "enter the value of a:78\n",
      "enter the value of b:95\n",
      "enter the value of c:45\n",
      "enter the value of d:54\n",
      "90.94736842105263\n"
     ]
    }
   ],
   "source": [
    "def op():\n",
    "    z=a/b*c+d\n",
    "    print(z)\n",
    "a=int(input(\"enter the value of a:\"))\n",
    "b=int(input(\"enter the value of b:\"))\n",
    "c=int(input(\"enter the value of c:\"))\n",
    "d=int(input(\"enter the value of d:\"))\n",
    "op()       \n",
    "    "
   ]
  },
  {
   "cell_type": "code",
   "execution_count": null,
   "metadata": {},
   "outputs": [],
   "source": []
  }
 ],
 "metadata": {
  "kernelspec": {
   "display_name": "Python 3",
   "language": "python",
   "name": "python3"
  },
  "language_info": {
   "codemirror_mode": {
    "name": "ipython",
    "version": 3
   },
   "file_extension": ".py",
   "mimetype": "text/x-python",
   "name": "python",
   "nbconvert_exporter": "python",
   "pygments_lexer": "ipython3",
   "version": "3.7.6"
  }
 },
 "nbformat": 4,
 "nbformat_minor": 4
}
