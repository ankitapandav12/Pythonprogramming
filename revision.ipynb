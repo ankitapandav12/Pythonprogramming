{
 "cells": [
  {
   "cell_type": "code",
   "execution_count": 5,
   "metadata": {},
   "outputs": [
    {
     "name": "stdout",
     "output_type": "stream",
     "text": [
      "Enter the value52\n",
      "Enter the value6\n",
      "58\n",
      "I got\n"
     ]
    }
   ],
   "source": [
    "ab=[\"Nik\",\"Ankita\",\"Kajal\"]\n",
    "for x in ab:\n",
    "    if x==\"Kajal\":\n",
    "        print(\"I got\")\n",
    "    elif x==\"Nik\":\n",
    "        a=int(input(\"Enter the value\"))\n",
    "        b=int(input(\"Enter the value\"))\n",
    "        print(a+b)"
   ]
  },
  {
   "cell_type": "code",
   "execution_count": 6,
   "metadata": {},
   "outputs": [
    {
     "name": "stdout",
     "output_type": "stream",
     "text": [
      "ENter value78\n",
      "Enter value6\n",
      "84\n"
     ]
    }
   ],
   "source": [
    "def add(a,b):\n",
    "    print(a+b)\n",
    "a=int(input(\"ENter value\"))\n",
    "b=int(input(\"Enter value\"))\n",
    "add(a,b)"
   ]
  },
  {
   "cell_type": "code",
   "execution_count": 1,
   "metadata": {},
   "outputs": [
    {
     "name": "stdout",
     "output_type": "stream",
     "text": [
      "Enter the value--nik\n",
      "Enter the value--anku\n",
      "Enter the value--kaju\n",
      "['nik', 'anku', 'kaju']\n"
     ]
    }
   ],
   "source": [
    "ab=[]\n",
    "for x in range(3):\n",
    "    a=input(\"Enter the value--\")\n",
    "    ab.append(a)\n",
    "print(ab)"
   ]
  },
  {
   "cell_type": "code",
   "execution_count": 2,
   "metadata": {},
   "outputs": [
    {
     "name": "stdout",
     "output_type": "stream",
     "text": [
      "Enter the name--neha\n",
      "Enter the Marks-- 96\n",
      "Enter the name--ira\n",
      "Enter the Marks-- 98\n",
      "Enter the name--adi\n",
      "Enter the Marks-- 78\n",
      "Enter the name--diksh\n",
      "Enter the Marks-- 66\n",
      "Enter the name--shree\n",
      "Enter the Marks-- 88\n",
      "[96, 98, 78, 66, 88]\n",
      "['neha', 'ira', 'adi', 'diksh', 'shree']\n"
     ]
    }
   ],
   "source": [
    "ag=[]\n",
    "ad=[]\n",
    "for x in range(5):\n",
    "    b=input(\"Enter the name--\")\n",
    "    c=int(input(\"Enter the Marks-- \"))\n",
    "    ag.append(b)\n",
    "    ad.append(c)\n",
    "print(ad)\n",
    "print(ag)"
   ]
  },
  {
   "cell_type": "code",
   "execution_count": 4,
   "metadata": {},
   "outputs": [
    {
     "name": "stdout",
     "output_type": "stream",
     "text": [
      "['neha', 'ira', 'om', 'adi', 'diksh', 'shre']\n"
     ]
    }
   ],
   "source": [
    "ar=[\"neha\", \"ira\", \"adi\", \"diksh\", \"shre\"]\n",
    "ar.insert(2,\"om\")\n",
    "print(ar)\n",
    "    "
   ]
  },
  {
   "cell_type": "code",
   "execution_count": 9,
   "metadata": {},
   "outputs": [
    {
     "name": "stdout",
     "output_type": "stream",
     "text": [
      "I got\n",
      "65\n",
      "78\n",
      "Addition is--- 143\n",
      "94\n",
      "32\n",
      "Addition is--- 126\n",
      "Yes I am shre---\n",
      "[143, 126]\n"
     ]
    }
   ],
   "source": [
    "add=[]\n",
    "arr=[\"neha\", \"ira\", \"adi\", \"diksh\", \"shre\"]\n",
    "for x in arr:\n",
    "    if x==\"adi\":\n",
    "        print(\"I got\")\n",
    "    elif x==\"diksh\":\n",
    "        for i in range(2):\n",
    "            a=int(input())\n",
    "            b=int(input())\n",
    "            c=a+b\n",
    "            print(\"Addition is---\",c)\n",
    "            add.append(c)\n",
    "    elif x==\"shre\":\n",
    "        print(\"Yes I am shre---\")\n",
    "print(add)"
   ]
  },
  {
   "cell_type": "code",
   "execution_count": 10,
   "metadata": {},
   "outputs": [
    {
     "name": "stdout",
     "output_type": "stream",
     "text": [
      "Enter value---56\n",
      "11\n"
     ]
    }
   ],
   "source": [
    "def sub(a):\n",
    "    print(a-b)\n",
    "b=int(input(\"Enter value---\"))\n",
    "sub(67)"
   ]
  },
  {
   "cell_type": "code",
   "execution_count": 12,
   "metadata": {},
   "outputs": [
    {
     "name": "stdout",
     "output_type": "stream",
     "text": [
      "336\n"
     ]
    }
   ],
   "source": [
    "def mul(a,b,c):\n",
    "    print(a*b*c)\n",
    "mul(6,8,7)"
   ]
  },
  {
   "cell_type": "code",
   "execution_count": 5,
   "metadata": {},
   "outputs": [
    {
     "name": "stdout",
     "output_type": "stream",
     "text": [
      "Enter the name: nik\n",
      "Enter the name: neha\n",
      "Enter the name: aaru\n",
      "Enter the name: shree\n",
      "Enter the name: janvi\n",
      "Enter the marks: 98\n",
      "Enter the marks: 88\n",
      "Enter the marks: 65\n",
      "Enter the marks: 74\n",
      "['nik', 'neha', 'aaru', 'shree', 'janvi']\n",
      "[98, 88, 65, 74]\n"
     ]
    }
   ],
   "source": [
    "name=[]\n",
    "marks=[]\n",
    "for x in range(5):\n",
    "    a=input(\"Enter the name: \")\n",
    "    name.append(a)\n",
    "for y in range(4):\n",
    "    b=int(input(\"Enter the marks: \"))\n",
    "    marks.append(b`````````\n",
    "print(name)\n",
    "print(marks)"
   ]
  },
  {
   "cell_type": "code",
   "execution_count": 9,
   "metadata": {},
   "outputs": [
    {
     "name": "stdout",
     "output_type": "stream",
     "text": [
      "Welcome to Delhi.....\n",
      "Enter the name...ira\n",
      "Enter the marks....56\n",
      "Enter the marks....88\n",
      "Enter the name...Tnishka\n",
      "Enter the marks....99\n",
      "Enter the marks....89\n",
      "Enter the name...anu\n",
      "Enter the marks....78\n",
      "Enter the marks....84\n",
      "Enter the name...pooja\n",
      "Enter the marks....66\n",
      "Enter the marks....75\n",
      "Enter the name...ravi\n",
      "Enter the marks....68\n",
      "Enter the marks....74\n",
      "['ira', 63, 'Tnishka', 88, 'anu', 89, 'pooja', 84, 'ravi', 75]\n",
      "[56, 88, 99, 89, 78, 84, 66, 75, 68, 74]\n"
     ]
    }
   ],
   "source": [
    "name1=[]\n",
    "marks1=[]\n",
    "citys=[\"Pune\",\"Sangli\",\"Delhi\",\"Ichal\",\"Paris\"]\n",
    "for x in citys:\n",
    "    if x==\"Delhi\":\n",
    "        print(\"Welcome to Delhi.....\")\n",
    "        for i in range(5):\n",
    "            a=input(\"Enter the name...\")\n",
    "            name1.append(a)\n",
    "            name1.append(b)\n",
    "            for y in range(2):\n",
    "                b=int(input(\"Enter the marks....\"))\n",
    "                marks1.append(b)\n",
    "print(name1)\n",
    "print(marks1)"
   ]
  },
  {
   "cell_type": "code",
   "execution_count": null,
   "metadata": {},
   "outputs": [],
   "source": []
  },
  {
   "cell_type": "code",
   "execution_count": null,
   "metadata": {},
   "outputs": [],
   "source": []
  }
 ],
 "metadata": {
  "kernelspec": {
   "display_name": "Python 3",
   "language": "python",
   "name": "python3"
  },
  "language_info": {
   "codemirror_mode": {
    "name": "ipython",
    "version": 3
   },
   "file_extension": ".py",
   "mimetype": "text/x-python",
   "name": "python",
   "nbconvert_exporter": "python",
   "pygments_lexer": "ipython3",
   "version": "3.7.6"
  }
 },
 "nbformat": 4,
 "nbformat_minor": 4
}
