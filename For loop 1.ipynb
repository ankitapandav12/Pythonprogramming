{
 "cells": [
  {
   "cell_type": "code",
   "execution_count": 1,
   "metadata": {},
   "outputs": [
    {
     "name": "stdout",
     "output_type": "stream",
     "text": [
      "0\n",
      "1\n",
      "2\n",
      "3\n",
      "4\n",
      "5\n",
      "6\n",
      "7\n",
      "8\n",
      "9\n"
     ]
    }
   ],
   "source": [
    "for x in range(10):\n",
    "    print(x)"
   ]
  },
  {
   "cell_type": "code",
   "execution_count": 2,
   "metadata": {},
   "outputs": [
    {
     "name": "stdout",
     "output_type": "stream",
     "text": [
      "Enter the no.:4\n",
      "0\n",
      "1\n",
      "2\n",
      "3\n"
     ]
    }
   ],
   "source": [
    "n = int(input(\"Enter the no.:\"))\n",
    "for x in range(n):\n",
    "    print(x)"
   ]
  },
  {
   "cell_type": "code",
   "execution_count": 1,
   "metadata": {},
   "outputs": [
    {
     "name": "stdout",
     "output_type": "stream",
     "text": [
      "Enter city name:pune\n",
      "p\n",
      "u\n",
      "n\n",
      "e\n",
      "Enter city name:mumbai\n",
      "m\n",
      "u\n",
      "m\n",
      "b\n",
      "a\n",
      "i\n"
     ]
    }
   ],
   "source": [
    "for x1 in range(2):\n",
    "    a=input(\"Enter city name:\")\n",
    "    for x in a:\n",
    "        print(x)"
   ]
  },
  {
   "cell_type": "code",
   "execution_count": 2,
   "metadata": {},
   "outputs": [
    {
     "name": "stdout",
     "output_type": "stream",
     "text": [
      "Enter the value of A:45\n",
      "Enter the value of B:65\n",
      "Value is incorrect\n",
      "____________________________________\n",
      "Enter the value of A:12\n",
      "Enter the value of B:12\n",
      "Value is incorrect\n",
      "____________________________________\n",
      "Enter the value of A:78\n",
      "Enter the value of B:14\n",
      "value is correct\n",
      "____________________________________\n",
      "Enter the value of A:92\n",
      "Enter the value of B:45\n",
      "value is correct\n",
      "____________________________________\n"
     ]
    }
   ],
   "source": [
    "for x in range(4):\n",
    "    a=int(input(\"Enter the value of A:\"))\n",
    "    b=int(input(\"Enter the value of B:\"))\n",
    "    if a>b:\n",
    "        print(\"value is correct\")\n",
    "    else:\n",
    "        print(\"Value is incorrect\")\n",
    "    print(\"____________________________________\")         "
   ]
  },
  {
   "cell_type": "code",
   "execution_count": 3,
   "metadata": {},
   "outputs": [
    {
     "name": "stdout",
     "output_type": "stream",
     "text": [
      "Enter the numbers:52\n",
      "value is incorrect\n",
      "*********************************\n",
      "Enter the numbers:50\n",
      "value is correct\n",
      "*********************************\n"
     ]
    }
   ],
   "source": [
    "for x in range(2):\n",
    "    a=int(input(\"Enter the numbers:\"))\n",
    "    if a==25 or a==50:\n",
    "        print(\"value is correct\")\n",
    "    else:\n",
    "        print(\"value is incorrect\")\n",
    "    print(\"*********************************\")    "
   ]
  },
  {
   "cell_type": "code",
   "execution_count": 4,
   "metadata": {},
   "outputs": [
    {
     "name": "stdout",
     "output_type": "stream",
     "text": [
      "Loop times: Apple\n",
      "Loop times: Banana\n",
      "Loop times: strawberry\n",
      "Correct\n"
     ]
    }
   ],
   "source": [
    "fruits = [\"Apple\",\"Banana\",\"strawberry\"]\n",
    "for x in fruits:\n",
    "    print(\"Loop times:\",x)\n",
    "    if x==\"strawberry\":\n",
    "        print(\"Correct\")\n",
    "        break\n",
    "        \n",
    "else:\n",
    "    print(\"Incorrect\")"
   ]
  },
  {
   "cell_type": "code",
   "execution_count": 6,
   "metadata": {},
   "outputs": [
    {
     "name": "stdout",
     "output_type": "stream",
     "text": [
      "Enter the name:ankita\n",
      "a\n",
      "a\n",
      "n\n",
      "n\n",
      "k\n",
      "k\n",
      "i\n",
      "i\n",
      "t\n",
      "t\n",
      "a\n",
      "a\n"
     ]
    }
   ],
   "source": [
    "n =input(\"Enter the name:\")\n",
    "for x in n:\n",
    "    print(x)\n",
    "    for y in x:\n",
    "        print(y)\n",
    "   "
   ]
  },
  {
   "cell_type": "code",
   "execution_count": 5,
   "metadata": {},
   "outputs": [
    {
     "name": "stdout",
     "output_type": "stream",
     "text": [
      "red apple\n",
      "red banana\n",
      "red cherry\n",
      "big apple\n",
      "big banana\n",
      "big cherry\n",
      "tasty apple\n",
      "tasty banana\n",
      "tasty cherry\n"
     ]
    }
   ],
   "source": [
    "adj = [\"red\", \"big\", \"tasty\"]\n",
    "fruits = [\"apple\", \"banana\", \"cherry\"]\n",
    "\n",
    "for x in adj:\n",
    "    for y in fruits:\n",
    "        print(x,y)"
   ]
  },
  {
   "cell_type": "code",
   "execution_count": null,
   "metadata": {},
   "outputs": [],
   "source": []
  }
 ],
 "metadata": {
  "kernelspec": {
   "display_name": "Python 3",
   "language": "python",
   "name": "python3"
  },
  "language_info": {
   "codemirror_mode": {
    "name": "ipython",
    "version": 3
   },
   "file_extension": ".py",
   "mimetype": "text/x-python",
   "name": "python",
   "nbconvert_exporter": "python",
   "pygments_lexer": "ipython3",
   "version": "3.7.6"
  }
 },
 "nbformat": 4,
 "nbformat_minor": 4
}
