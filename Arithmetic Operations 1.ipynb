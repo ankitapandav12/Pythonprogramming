{
 "cells": [
  {
   "cell_type": "code",
   "execution_count": 1,
   "metadata": {},
   "outputs": [
    {
     "name": "stdout",
     "output_type": "stream",
     "text": [
      "Ans= 64\n"
     ]
    }
   ],
   "source": [
    "a=52\n",
    "b=12\n",
    "c=a+b\n",
    "print(\"Ans=\",c)"
   ]
  },
  {
   "cell_type": "code",
   "execution_count": 2,
   "metadata": {},
   "outputs": [
    {
     "name": "stdout",
     "output_type": "stream",
     "text": [
      "enter the value of a:75\n",
      "enter the value of b:45\n",
      "Multiplication is= 3375\n"
     ]
    }
   ],
   "source": [
    "a=int(input(\"enter the value of a:\"))\n",
    "b=int(input(\"enter the value of b:\"))\n",
    "print(\"Multiplication is=\",a*b)\n"
   ]
  },
  {
   "cell_type": "code",
   "execution_count": 1,
   "metadata": {},
   "outputs": [
    {
     "name": "stdout",
     "output_type": "stream",
     "text": [
      "enter the value of a:987\n",
      "enter the value of b:123\n",
      "ANSWER= 864\n",
      "______________________________________\n",
      "enter the value of a:785\n",
      "enter the value of b:235\n",
      "ANSWER= 550\n",
      "______________________________________\n"
     ]
    }
   ],
   "source": [
    "for x in range(2):\n",
    "    a=int(input(\"enter the value of a:\"))\n",
    "    b=int(input(\"enter the value of b:\"))\n",
    "    print(\"ANSWER=\",a-b)\n",
    "    print(\"______________________________________\")\n"
   ]
  },
  {
   "cell_type": "code",
   "execution_count": 1,
   "metadata": {},
   "outputs": [
    {
     "name": "stdout",
     "output_type": "stream",
     "text": [
      "enter the value of s:45\n",
      "area of square: 180\n",
      "_______________________\n",
      "enter the value of s:67\n",
      "area of square: 268\n",
      "_______________________\n",
      "addition is: 137\n",
      "________________\n",
      "addition is: 137\n",
      "________________\n"
     ]
    }
   ],
   "source": [
    "#area 0f square = 4*s\n",
    "for x in range(2):\n",
    "    s=int(input(\"enter the value of s:\"))\n",
    "    area_of_square = 4*s\n",
    "    print(\"area of square:\",area_of_square)\n",
    "    print(\"_______________________\")\n",
    "for x in \"hi\":\n",
    "    a=85\n",
    "    b=52\n",
    "    print(\"addition is:\",a+b)\n",
    "    print(\"________________\")"
   ]
  },
  {
   "cell_type": "code",
   "execution_count": 2,
   "metadata": {},
   "outputs": [
    {
     "name": "stdout",
     "output_type": "stream",
     "text": [
      "enter the value of b:78\n",
      "enter the value of h:34\n",
      "area_of_triangle: 1326.0\n"
     ]
    }
   ],
   "source": [
    "#area of triangle = 1/2*(b*h)\n",
    "b=int(input(\"enter the value of b:\"))\n",
    "h=int(input(\"enter the value of h:\"))\n",
    "area_of_triangle = 1/2*(b*h)\n",
    "print(\"area_of_triangle:\",area_of_triangle)"
   ]
  },
  {
   "cell_type": "code",
   "execution_count": 3,
   "metadata": {},
   "outputs": [
    {
     "name": "stdout",
     "output_type": "stream",
     "text": [
      "enter the value of l:45\n",
      "enter the value of w:56\n",
      "area_of_rectangle: 202\n",
      "***************************************\n",
      "enter the value of l:98\n",
      "enter the value of w:12\n",
      "area_of_rectangle: 220\n",
      "***************************************\n"
     ]
    }
   ],
   "source": [
    "#area of rectangle = 2*(l+w)\n",
    "for x in range(2):\n",
    "    l=int(input(\"enter the value of l:\"))\n",
    "    w=int(input(\"enter the value of w:\"))\n",
    "    area_of_rectangle = 2*(l+w)\n",
    "    print(\"area_of_rectangle:\",area_of_rectangle)\n",
    "    print(\"***************************************\")"
   ]
  },
  {
   "cell_type": "code",
   "execution_count": 4,
   "metadata": {},
   "outputs": [
    {
     "name": "stdout",
     "output_type": "stream",
     "text": [
      "121.0\n"
     ]
    }
   ],
   "source": [
    "#area of triangle = 1/2*(b*h)\n",
    "b=11\n",
    "h=22\n",
    "area_of_triangle = 1/2*(b*h)\n",
    "print(area_of_triangle)"
   ]
  },
  {
   "cell_type": "code",
   "execution_count": 5,
   "metadata": {},
   "outputs": [
    {
     "name": "stdout",
     "output_type": "stream",
     "text": [
      "62.800000000000004\n"
     ]
    }
   ],
   "source": [
    "#area of circle = 2*pi*r\n",
    "pi=3.14\n",
    "r=10\n",
    "area_of_circle = 2*pi*r\n",
    "print(area_of_circle)"
   ]
  },
  {
   "cell_type": "code",
   "execution_count": 6,
   "metadata": {},
   "outputs": [
    {
     "name": "stdout",
     "output_type": "stream",
     "text": [
      "<class 'str'>\n",
      "<class 'int'>\n",
      "<class 'float'>\n"
     ]
    }
   ],
   "source": [
    "a = \"Renu\"\n",
    "b = 1234\n",
    "c = 0.521\n",
    "print(type(a))\n",
    "print(type(b))\n",
    "print(type(c))"
   ]
  },
  {
   "cell_type": "code",
   "execution_count": null,
   "metadata": {},
   "outputs": [],
   "source": [
    "a=input(\"enter the name:\")"
   ]
  },
  {
   "cell_type": "code",
   "execution_count": null,
   "metadata": {},
   "outputs": [],
   "source": []
  }
 ],
 "metadata": {
  "kernelspec": {
   "display_name": "Python 3",
   "language": "python",
   "name": "python3"
  },
  "language_info": {
   "codemirror_mode": {
    "name": "ipython",
    "version": 3
   },
   "file_extension": ".py",
   "mimetype": "text/x-python",
   "name": "python",
   "nbconvert_exporter": "python",
   "pygments_lexer": "ipython3",
   "version": "3.7.6"
  }
 },
 "nbformat": 4,
 "nbformat_minor": 4
}
