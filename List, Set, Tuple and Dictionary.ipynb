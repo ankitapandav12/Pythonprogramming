{
 "cells": [
  {
   "cell_type": "markdown",
   "metadata": {},
   "source": [
    "# 1) List"
   ]
  },
  {
   "cell_type": "code",
   "execution_count": null,
   "metadata": {},
   "outputs": [],
   "source": [
    "\n",
    "# 1)List is Collection of items storing in single variable\n",
    "# 2)List allows duplicate items\n",
    "# 3)List is changable\n",
    "# 4)List is Indexed and Ordered\n",
    "# 5)List defines in []"
   ]
  },
  {
   "cell_type": "code",
   "execution_count": 9,
   "metadata": {},
   "outputs": [
    {
     "name": "stdout",
     "output_type": "stream",
     "text": [
      "<class 'list'>\n"
     ]
    }
   ],
   "source": [
    "a=[\"Nikita\",\"Renu\",\"Kajal\",\"Sayali\"]\n",
    "print(type(a))"
   ]
  },
  {
   "cell_type": "code",
   "execution_count": 11,
   "metadata": {},
   "outputs": [
    {
     "name": "stdout",
     "output_type": "stream",
     "text": [
      "<class 'list'>\n"
     ]
    }
   ],
   "source": [
    "b=list()\n",
    "print(type(b))"
   ]
  },
  {
   "cell_type": "code",
   "execution_count": 14,
   "metadata": {},
   "outputs": [
    {
     "name": "stdout",
     "output_type": "stream",
     "text": [
      "Diksha\n"
     ]
    }
   ],
   "source": [
    "# How to access item in the list\n",
    "\n",
    "a=[\"Nikita\",\"Renu\",\"Kajal\",\"Sayali\",\"Neha\",\"Diksha\"]\n",
    "ab=a[5]\n",
    "print(ab)"
   ]
  },
  {
   "cell_type": "code",
   "execution_count": 15,
   "metadata": {},
   "outputs": [
    {
     "name": "stdout",
     "output_type": "stream",
     "text": [
      "['Sayali', 'Neha']\n"
     ]
    }
   ],
   "source": [
    "a=[\"Nikita\",\"Renu\",\"Kajal\",\"Sayali\",\"Neha\",\"Diksha\"]\n",
    "ab=a[3:5]\n",
    "print(ab)"
   ]
  },
  {
   "cell_type": "code",
   "execution_count": 16,
   "metadata": {},
   "outputs": [
    {
     "name": "stdout",
     "output_type": "stream",
     "text": [
      "[]\n"
     ]
    }
   ],
   "source": [
    "a=[\"Nikita\",\"Renu\",\"Kajal\",\"Sayali\",\"Neha\",\"Diksha\"]\n",
    "ab=a[5:5]\n",
    "print(ab)"
   ]
  },
  {
   "cell_type": "code",
   "execution_count": 17,
   "metadata": {},
   "outputs": [
    {
     "name": "stdout",
     "output_type": "stream",
     "text": [
      "['Sayali', 'Neha']\n"
     ]
    }
   ],
   "source": [
    "a=[\"Nikita\",\"Renu\",\"Kajal\",\"Sayali\",\"Neha\",\"Diksha\"]\n",
    "ab=a[-3:5]\n",
    "print(ab)"
   ]
  },
  {
   "cell_type": "code",
   "execution_count": 18,
   "metadata": {},
   "outputs": [
    {
     "name": "stdout",
     "output_type": "stream",
     "text": [
      "['Sayali']\n"
     ]
    }
   ],
   "source": [
    "a=[\"Nikita\",\"Renu\",\"Kajal\",\"Sayali\",\"Neha\",\"Diksha\"]\n",
    "ab=a[-3:-2]\n",
    "print(ab)"
   ]
  },
  {
   "cell_type": "code",
   "execution_count": 19,
   "metadata": {},
   "outputs": [
    {
     "name": "stdout",
     "output_type": "stream",
     "text": [
      "[]\n"
     ]
    }
   ],
   "source": [
    "a=[\"Nikita\",\"Renu\",\"Kajal\",\"Sayali\",\"Neha\",\"Diksha\"]\n",
    "ab=a[-3:-5]\n",
    "print(ab)"
   ]
  },
  {
   "cell_type": "code",
   "execution_count": 2,
   "metadata": {},
   "outputs": [
    {
     "name": "stdout",
     "output_type": "stream",
     "text": [
      "['Nikita', 'Renu', 'Kajal', 'Sayali']\n"
     ]
    }
   ],
   "source": [
    "a=[\"Nikita\",\"Renu\",\"Kajal\",\"Sayali\"]\n",
    "print(a)"
   ]
  },
  {
   "cell_type": "code",
   "execution_count": 22,
   "metadata": {},
   "outputs": [
    {
     "name": "stdout",
     "output_type": "stream",
     "text": [
      "6\n"
     ]
    }
   ],
   "source": [
    "# Length\n",
    "\n",
    "a=[\"Nikita\",\"Renu\",\"Kajal\",\"Sayali\",\"Neha\",\"Diksha\"]\n",
    "print(len(a))"
   ]
  },
  {
   "cell_type": "code",
   "execution_count": 3,
   "metadata": {},
   "outputs": [
    {
     "name": "stdout",
     "output_type": "stream",
     "text": [
      "Enter the name: nik\n",
      "['Nikta', 'Renu', 'Kajal', 'Sayali', 'nik']\n"
     ]
    }
   ],
   "source": [
    "# Append\n",
    "\n",
    "AB=input(\"Enter the name: \")\n",
    "a=[\"Nikta\",\"Renu\",\"Kajal\",\"Sayali\"]\n",
    "a.append(AB)\n",
    "print(a)"
   ]
  },
  {
   "cell_type": "code",
   "execution_count": 4,
   "metadata": {},
   "outputs": [
    {
     "name": "stdout",
     "output_type": "stream",
     "text": [
      "Enter the name: Ni8k\n",
      "['Nikita', 'Renu', 'Kajal', 'Ni8k', 'Sayali']\n"
     ]
    }
   ],
   "source": [
    "#Insert\n",
    "\n",
    "AB=input(\"Enter the name: \")\n",
    "a=[\"Nikita\",\"Renu\",\"Kajal\",\"Sayali\"]\n",
    "a.insert(3,AB)\n",
    "print(a)"
   ]
  },
  {
   "cell_type": "code",
   "execution_count": 5,
   "metadata": {},
   "outputs": [
    {
     "name": "stdout",
     "output_type": "stream",
     "text": [
      "Enter the name: Sayali\n",
      "['Nikita', 'Renu', 'Kajal']\n"
     ]
    }
   ],
   "source": [
    "#Remove\n",
    "\n",
    "AB=input(\"Enter the name: \")\n",
    "a=[\"Nikita\",\"Renu\",\"Kajal\",\"Sayali\"]\n",
    "a.remove(AB)\n",
    "print(a)"
   ]
  },
  {
   "cell_type": "code",
   "execution_count": 3,
   "metadata": {},
   "outputs": [
    {
     "name": "stdout",
     "output_type": "stream",
     "text": [
      "[7, 5, 7, 6]\n"
     ]
    }
   ],
   "source": [
    "### its remove we given value\n",
    "### use the remove() function to delete a specific object in the list.\n",
    "am=[3,7,5,7,6]\n",
    "am.remove(3)\n",
    "print(am)"
   ]
  },
  {
   "cell_type": "code",
   "execution_count": 4,
   "metadata": {},
   "outputs": [],
   "source": [
    "am=[3,7,5,7,6]\n",
    "del am"
   ]
  },
  {
   "cell_type": "code",
   "execution_count": 44,
   "metadata": {},
   "outputs": [
    {
     "name": "stdout",
     "output_type": "stream",
     "text": [
      "[3, 7, 5, 6]\n"
     ]
    }
   ],
   "source": [
    "### its del by positional value\n",
    "### If you want to delete an object at a specific location in the list\n",
    "am=[3,7,5,7,6]\n",
    "del am[3]\n",
    "print(am)"
   ]
  },
  {
   "cell_type": "code",
   "execution_count": 45,
   "metadata": {},
   "outputs": [
    {
     "name": "stdout",
     "output_type": "stream",
     "text": [
      "['Nikita', 'Kajal', 'Sayali']\n"
     ]
    }
   ],
   "source": [
    "\n",
    "a=[\"Nikita\",\"Renu\",\"Kajal\",\"Sayali\"]\n",
    "del a[1]\n",
    "print(a)"
   ]
  },
  {
   "cell_type": "code",
   "execution_count": 6,
   "metadata": {},
   "outputs": [
    {
     "name": "stdout",
     "output_type": "stream",
     "text": [
      "['Nikita', 'Renu', 'Kajal']\n"
     ]
    }
   ],
   "source": [
    "#Pop\n",
    "\n",
    "a=[\"Nikita\",\"Renu\",\"Kajal\",\"Sayali\"]\n",
    "a.pop()\n",
    "print(a)"
   ]
  },
  {
   "cell_type": "code",
   "execution_count": 7,
   "metadata": {},
   "outputs": [
    {
     "name": "stdout",
     "output_type": "stream",
     "text": [
      "['Nikita', 'Renu', 'Kajal', 'Sayali', 'Pranav', 'Sahil', 'Vinay', 'Pruthvi']\n"
     ]
    }
   ],
   "source": [
    "# Concatenate\n",
    "# It combines 2 sets.\n",
    "\n",
    "a=[\"Nikita\",\"Renu\",\"Kajal\",\"Sayali\"]\n",
    "b=[\"Pranav\",\"Sahil\",\"Vinay\",\"Pruthvi\"]\n",
    "ab=a+b\n",
    "print(ab)"
   ]
  },
  {
   "cell_type": "code",
   "execution_count": 8,
   "metadata": {},
   "outputs": [
    {
     "name": "stdout",
     "output_type": "stream",
     "text": [
      "['Nikita', 'Renu', 'Kajal', 'Sayali', 'Nikita', 'Renu', 'Kajal', 'Sayali']\n"
     ]
    }
   ],
   "source": [
    "# a*2\n",
    "\n",
    "a=[\"Nikita\",\"Renu\",\"Kajal\",\"Sayali\"]\n",
    "ab=a*2\n",
    "print(ab)"
   ]
  },
  {
   "cell_type": "markdown",
   "metadata": {},
   "source": [
    "# 2) Tuple"
   ]
  },
  {
   "cell_type": "code",
   "execution_count": 20,
   "metadata": {},
   "outputs": [],
   "source": [
    "\n",
    "# Tuple is unchangable (unmuteable) \n",
    "# Tuple allows dublicate values.\n",
    "# It is ordered and indexed.\n",
    "# Tuple defines in ()."
   ]
  },
  {
   "cell_type": "code",
   "execution_count": 21,
   "metadata": {},
   "outputs": [
    {
     "name": "stdout",
     "output_type": "stream",
     "text": [
      "<class 'tuple'>\n",
      "<class 'tuple'>\n"
     ]
    }
   ],
   "source": [
    "call = ()\n",
    "call1 =tuple()\n",
    "\n",
    "print(type(call))\n",
    "print(type(call1))"
   ]
  },
  {
   "cell_type": "code",
   "execution_count": 24,
   "metadata": {},
   "outputs": [
    {
     "name": "stdout",
     "output_type": "stream",
     "text": [
      "6\n"
     ]
    }
   ],
   "source": [
    "# Length\n",
    "\n",
    "name=(\"Neha\",\"Nikita\",\"Diksha\",\"Swaranjali\",\"Aarohi\",\"Reva\")\n",
    "print(len(name))"
   ]
  },
  {
   "cell_type": "code",
   "execution_count": 5,
   "metadata": {},
   "outputs": [],
   "source": [
    "name=(\"Neha\",\"Nikita\",\"Diksha\",\"Swaranjali\",\"Aarohi\",\"Reva\")\n",
    "del name"
   ]
  },
  {
   "cell_type": "code",
   "execution_count": 26,
   "metadata": {},
   "outputs": [
    {
     "name": "stdout",
     "output_type": "stream",
     "text": [
      "Swaranjali\n"
     ]
    }
   ],
   "source": [
    "name=(\"Neha\",\"Nikita\",\"Diksha\",\"Swaranjali\",\"Aarohi\",\"Reva\")\n",
    "ab=name[3]\n",
    "print(ab)"
   ]
  },
  {
   "cell_type": "code",
   "execution_count": 27,
   "metadata": {},
   "outputs": [
    {
     "name": "stdout",
     "output_type": "stream",
     "text": [
      "('Swaranjali', 'Aarohi', 'Reva')\n"
     ]
    }
   ],
   "source": [
    "name=(\"Neha\",\"Nikita\",\"Diksha\",\"Swaranjali\",\"Aarohi\",\"Reva\")\n",
    "ab=name[3:10]\n",
    "print(ab)"
   ]
  },
  {
   "cell_type": "code",
   "execution_count": 28,
   "metadata": {},
   "outputs": [
    {
     "name": "stdout",
     "output_type": "stream",
     "text": [
      "('Reva',)\n"
     ]
    }
   ],
   "source": [
    "name=(\"Neha\",\"Nikita\",\"Diksha\",\"Swaranjali\",\"Aarohi\",\"Reva\")\n",
    "ab=name[5:10]\n",
    "print(ab)"
   ]
  },
  {
   "cell_type": "code",
   "execution_count": 29,
   "metadata": {},
   "outputs": [
    {
     "name": "stdout",
     "output_type": "stream",
     "text": [
      "('Swaranjali', 'Aarohi', 'Reva')\n"
     ]
    }
   ],
   "source": [
    "name=(\"Neha\",\"Nikita\",\"Diksha\",\"Swaranjali\",\"Aarohi\",\"Reva\")\n",
    "ab=name[-3:10]\n",
    "print(ab)"
   ]
  },
  {
   "cell_type": "code",
   "execution_count": 30,
   "metadata": {},
   "outputs": [
    {
     "name": "stdout",
     "output_type": "stream",
     "text": [
      "('Diksha',)\n"
     ]
    }
   ],
   "source": [
    "name=(\"Neha\",\"Nikita\",\"Diksha\",\"Swaranjali\",\"Aarohi\",\"Reva\")\n",
    "ab=name[-4:3]\n",
    "print(ab)"
   ]
  },
  {
   "cell_type": "code",
   "execution_count": 32,
   "metadata": {},
   "outputs": [
    {
     "name": "stdout",
     "output_type": "stream",
     "text": [
      "()\n"
     ]
    }
   ],
   "source": [
    "name=(\"Neha\",\"Nikita\",\"Diksha\",\"Swaranjali\",\"Aarohi\",\"Reva\")\n",
    "ab=name[-5:1]\n",
    "print(ab)"
   ]
  },
  {
   "cell_type": "code",
   "execution_count": 33,
   "metadata": {},
   "outputs": [
    {
     "name": "stdout",
     "output_type": "stream",
     "text": [
      "('Neha', 'Nikita', 'Diksha', 'Swaranjali', 'Aarohi', 'Reva', 'Sangli', 'Delhi', 'Pune', 'Jaypur', 'Ichal', 'Surat', 'Nashik')\n"
     ]
    }
   ],
   "source": [
    "# Concatenate\n",
    "# It combines 2 sets.\n",
    "\n",
    "name=(\"Neha\",\"Nikita\",\"Diksha\",\"Swaranjali\",\"Aarohi\",\"Reva\")\n",
    "city=(\"Sangli\",\"Delhi\",\"Pune\",\"Jaypur\",\"Ichal\",\"Surat\",\"Nashik\")\n",
    "ab=name+city\n",
    "print(ab)"
   ]
  },
  {
   "cell_type": "code",
   "execution_count": 34,
   "metadata": {},
   "outputs": [
    {
     "name": "stdout",
     "output_type": "stream",
     "text": [
      "('Sangli', 'Delhi', 'Pune', 'Jaypur', 'Ichal', 'Surat', 'Nashik', 'Sangli', 'Delhi', 'Pune', 'Jaypur', 'Ichal', 'Surat', 'Nashik')\n"
     ]
    }
   ],
   "source": [
    "name=(\"Neha\",\"Nikita\",\"Diksha\",\"Swaranjali\",\"Aarohi\",\"Reva\")\n",
    "city=(\"Sangli\",\"Delhi\",\"Pune\",\"Jaypur\",\"Ichal\",\"Surat\",\"Nashik\")\n",
    "ab=city*2\n",
    "print(ab)"
   ]
  },
  {
   "cell_type": "markdown",
   "metadata": {},
   "source": [
    "# 3) Set"
   ]
  },
  {
   "cell_type": "code",
   "execution_count": 35,
   "metadata": {},
   "outputs": [],
   "source": [
    "\n",
    "# Set is changable.\n",
    "# It does not allow duplicate members\n",
    "# It is unindexed and unordered\n",
    "# It defines in {}"
   ]
  },
  {
   "cell_type": "code",
   "execution_count": 39,
   "metadata": {},
   "outputs": [
    {
     "name": "stdout",
     "output_type": "stream",
     "text": [
      "<class 'dict'>\n",
      "<class 'set'>\n"
     ]
    }
   ],
   "source": [
    "call = {}                        # because it is blank set\n",
    "call2 = set()\n",
    "\n",
    "print(type(call))\n",
    "print(type(call2))"
   ]
  },
  {
   "cell_type": "code",
   "execution_count": 41,
   "metadata": {},
   "outputs": [
    {
     "name": "stdout",
     "output_type": "stream",
     "text": [
      "<class 'set'>\n"
     ]
    }
   ],
   "source": [
    "call={\"Neha\",\"Nikita\",\"Diksha\",\"Swaranjali\",\"Aarohi\",\"Reva\"}\n",
    "print(type(call))"
   ]
  },
  {
   "cell_type": "code",
   "execution_count": 43,
   "metadata": {},
   "outputs": [
    {
     "name": "stdout",
     "output_type": "stream",
     "text": [
      "{'Aarohi', 'Swaranjali', 'Diksha', 'Nikita', 'Reva', 'Neha'}\n"
     ]
    }
   ],
   "source": [
    "name= {\"Neha\",\"Nikita\",\"Diksha\",\"Swaranjali\",\"Aarohi\",\"Reva\"}\n",
    "print(name)"
   ]
  },
  {
   "cell_type": "code",
   "execution_count": 6,
   "metadata": {},
   "outputs": [],
   "source": [
    "name= {\"Neha\",\"Nikita\",\"Diksha\",\"Swaranjali\",\"Aarohi\",\"Reva\"}\n",
    "del name"
   ]
  },
  {
   "cell_type": "code",
   "execution_count": 1,
   "metadata": {},
   "outputs": [
    {
     "name": "stdout",
     "output_type": "stream",
     "text": [
      "{'Nikita', 'Aboli', 'Swaranjali', 'Neha', 'Diksha', 'Reva', 'Aarohi'}\n"
     ]
    }
   ],
   "source": [
    "# Add\n",
    "\n",
    "name= {\"Neha\",\"Nikita\",\"Diksha\",\"Swaranjali\",\"Aarohi\",\"Reva\"}\n",
    "name.add(\"Aboli\")\n",
    "print(name)"
   ]
  },
  {
   "cell_type": "code",
   "execution_count": 2,
   "metadata": {},
   "outputs": [
    {
     "name": "stdout",
     "output_type": "stream",
     "text": [
      "{'Nikita', 'Swaranjali', 'Diksha', 'Reva', 'Aarohi'}\n"
     ]
    }
   ],
   "source": [
    "# Remove\n",
    "\n",
    "name= {\"Neha\",\"Nikita\",\"Diksha\",\"Swaranjali\",\"Aarohi\",\"Reva\"}\n",
    "name.remove(\"Neha\")\n",
    "print(name)"
   ]
  },
  {
   "cell_type": "code",
   "execution_count": 3,
   "metadata": {},
   "outputs": [
    {
     "name": "stdout",
     "output_type": "stream",
     "text": [
      "{'Nikita', 'Swaranjali', 'Diksha', 'Reva', 'Aarohi'}\n"
     ]
    }
   ],
   "source": [
    "# Discard\n",
    "\n",
    "name= {\"Neha\",\"Nikita\",\"Diksha\",\"Swaranjali\",\"Aarohi\",\"Reva\"}\n",
    "name.discard(\"Neha\")\n",
    "print(name)"
   ]
  },
  {
   "cell_type": "code",
   "execution_count": 17,
   "metadata": {},
   "outputs": [
    {
     "name": "stdout",
     "output_type": "stream",
     "text": [
      "{'Nikita', 'Reva', 'Aarohi', 'Diksha', 'Neha'}\n"
     ]
    }
   ],
   "source": [
    "# Discard\n",
    "\n",
    "name= {\"Neha\",\"Nikita\",\"Diksha\",\"Swaranjali\",\"Aarohi\",\"Reva\"}\n",
    "name.pop()\n",
    "print(name)"
   ]
  },
  {
   "cell_type": "code",
   "execution_count": 5,
   "metadata": {},
   "outputs": [
    {
     "name": "stdout",
     "output_type": "stream",
     "text": [
      "{'Sahil', 'Shiva', 'Nikita', 'Pruthvi', 'Swaranjali', 'Vinya', 'Daksh', 'Neha', 'Diksha', 'Reva', 'Pranav', 'Aarohi'}\n"
     ]
    }
   ],
   "source": [
    "# How to join\n",
    "\n",
    "name= {\"Neha\",\"Nikita\",\"Diksha\",\"Swaranjali\",\"Aarohi\",\"Reva\"} \n",
    "name2= {\"Sahil\",\"Pranav\",\"Vinya\",\"Pruthvi\",\"Daksh\",\"Shiva\"}\n",
    "ab=name.union(name2)\n",
    "print(ab)"
   ]
  },
  {
   "cell_type": "code",
   "execution_count": 41,
   "metadata": {},
   "outputs": [
    {
     "ename": "TypeError",
     "evalue": "unsupported operand type(s) for +: 'set' and 'set'",
     "output_type": "error",
     "traceback": [
      "\u001b[1;31m---------------------------------------------------------------------------\u001b[0m",
      "\u001b[1;31mTypeError\u001b[0m                                 Traceback (most recent call last)",
      "\u001b[1;32m<ipython-input-41-21606e16e71a>\u001b[0m in \u001b[0;36m<module>\u001b[1;34m\u001b[0m\n\u001b[0;32m      1\u001b[0m \u001b[0mname\u001b[0m\u001b[1;33m=\u001b[0m \u001b[1;33m{\u001b[0m\u001b[1;34m\"Neha\"\u001b[0m\u001b[1;33m,\u001b[0m\u001b[1;34m\"Nikita\"\u001b[0m\u001b[1;33m,\u001b[0m\u001b[1;34m\"Diksha\"\u001b[0m\u001b[1;33m,\u001b[0m\u001b[1;34m\"Swaranjali\"\u001b[0m\u001b[1;33m,\u001b[0m\u001b[1;34m\"Aarohi\"\u001b[0m\u001b[1;33m,\u001b[0m\u001b[1;34m\"Reva\"\u001b[0m\u001b[1;33m}\u001b[0m\u001b[1;33m\u001b[0m\u001b[1;33m\u001b[0m\u001b[0m\n\u001b[0;32m      2\u001b[0m \u001b[0mname2\u001b[0m\u001b[1;33m=\u001b[0m \u001b[1;33m{\u001b[0m\u001b[1;34m\"Sahil\"\u001b[0m\u001b[1;33m,\u001b[0m\u001b[1;34m\"Pranav\"\u001b[0m\u001b[1;33m,\u001b[0m\u001b[1;34m\"Vinya\"\u001b[0m\u001b[1;33m,\u001b[0m\u001b[1;34m\"Pruthvi\"\u001b[0m\u001b[1;33m,\u001b[0m\u001b[1;34m\"Daksh\"\u001b[0m\u001b[1;33m,\u001b[0m\u001b[1;34m\"Shiva\"\u001b[0m\u001b[1;33m}\u001b[0m\u001b[1;33m\u001b[0m\u001b[1;33m\u001b[0m\u001b[0m\n\u001b[1;32m----> 3\u001b[1;33m \u001b[0mab\u001b[0m\u001b[1;33m=\u001b[0m\u001b[0mname\u001b[0m\u001b[1;33m+\u001b[0m\u001b[0mname2\u001b[0m\u001b[1;33m\u001b[0m\u001b[1;33m\u001b[0m\u001b[0m\n\u001b[0m\u001b[0;32m      4\u001b[0m \u001b[0mprint\u001b[0m\u001b[1;33m(\u001b[0m\u001b[0mab\u001b[0m\u001b[1;33m)\u001b[0m\u001b[1;33m\u001b[0m\u001b[1;33m\u001b[0m\u001b[0m\n",
      "\u001b[1;31mTypeError\u001b[0m: unsupported operand type(s) for +: 'set' and 'set'"
     ]
    }
   ],
   "source": [
    "name= {\"Neha\",\"Nikita\",\"Diksha\",\"Swaranjali\",\"Aarohi\",\"Reva\"}\n",
    "name2= {\"Sahil\",\"Pranav\",\"Vinya\",\"Pruthvi\",\"Daksh\",\"Shiva\"}                  # concatenate not works\n",
    "ab=name+name2\n",
    "print(ab)"
   ]
  },
  {
   "cell_type": "markdown",
   "metadata": {},
   "source": [
    "# 4) Dictionary"
   ]
  },
  {
   "cell_type": "code",
   "execution_count": 6,
   "metadata": {},
   "outputs": [],
   "source": [
    "\n",
    "# It is a collection of key & value pairs\n",
    "# This is not allows keys as duplicate_____but values you can add duplicate.\n",
    "# Ordered and Indexed\n",
    "# a={keys : values}"
   ]
  },
  {
   "cell_type": "code",
   "execution_count": 10,
   "metadata": {},
   "outputs": [
    {
     "name": "stdout",
     "output_type": "stream",
     "text": [
      "<class 'dict'>\n",
      "<class 'dict'>\n"
     ]
    }
   ],
   "source": [
    "name= {}\n",
    "name1=dict()\n",
    "print(type(name))\n",
    "print(type(name1))"
   ]
  },
  {
   "cell_type": "code",
   "execution_count": 10,
   "metadata": {},
   "outputs": [],
   "source": [
    "name={\"Boys\":\"Amit\",\n",
    "      \"Girls\":\"Pooja\",\n",
    "      \"City\":\"Pune\",\n",
    "      \"Pin Code\":1234}\n",
    "\n",
    "# print(name)\n",
    "del name\n",
    "# print(name)"
   ]
  },
  {
   "cell_type": "code",
   "execution_count": 16,
   "metadata": {},
   "outputs": [
    {
     "data": {
      "text/plain": [
       "'Pooja'"
      ]
     },
     "execution_count": 16,
     "metadata": {},
     "output_type": "execute_result"
    }
   ],
   "source": [
    "name[\"Girls\"]"
   ]
  },
  {
   "cell_type": "code",
   "execution_count": 21,
   "metadata": {},
   "outputs": [
    {
     "name": "stdout",
     "output_type": "stream",
     "text": [
      "4\n"
     ]
    }
   ],
   "source": [
    "print(len(name))"
   ]
  },
  {
   "cell_type": "code",
   "execution_count": 22,
   "metadata": {},
   "outputs": [
    {
     "name": "stdout",
     "output_type": "stream",
     "text": [
      "{'Boys': 'Amit', 'Girls': 'Pooja', 'City': 'Pune', 'Pin Code': 1234, 'colour': ['Pink', 'Red', 'voilt', 'Orange', 'Black']}\n"
     ]
    }
   ],
   "source": [
    "name={\"Boys\":\"Amit\",\n",
    "      \"Girls\":\"Pooja\",\n",
    "      \"City\":\"Pune\",\n",
    "      \"Pin Code\":1234,\n",
    "      \"colour\":[\"Pink\",\"Red\",\"voilt\",\"Orange\",\"Black\"] \n",
    "     }\n",
    "\n",
    "print(name)"
   ]
  },
  {
   "cell_type": "code",
   "execution_count": 25,
   "metadata": {},
   "outputs": [
    {
     "name": "stdout",
     "output_type": "stream",
     "text": [
      "{'Boys': 'Amit', 'Girls': 'Pooja', 'City': 'Pune', 'Pin Code': 1234, 'colour': ['Pink', 'Red', 'voilt', 'Orange', 'Black']}\n",
      "-----------------------------------------------------------------\n",
      "dict_keys(['Boys', 'Girls', 'City', 'Pin Code', 'colour'])\n"
     ]
    }
   ],
   "source": [
    "# Only keys are access\n",
    "\n",
    "name={\"Boys\":\"Amit\",\n",
    "      \"Girls\":\"Pooja\",\n",
    "      \"City\":\"Pune\",\n",
    "      \"Pin Code\":1234,\n",
    "      \"colour\":[\"Pink\",\"Red\",\"voilt\",\"Orange\",\"Black\"] \n",
    "     }\n",
    "\n",
    "print(name)\n",
    "print(\"-----------------------------------------------------------------\")\n",
    "x = name.keys()\n",
    "print(x)"
   ]
  },
  {
   "cell_type": "code",
   "execution_count": 28,
   "metadata": {},
   "outputs": [
    {
     "name": "stdout",
     "output_type": "stream",
     "text": [
      "{'Boys': 'Amit', 'Girls': 'Pooja', 'City': 'Pune', 'Pin Code': 1234, 'colour': ['Pink', 'Red', 'voilt', 'Orange', 'Black']}\n",
      "-------------------------------------------------------------------------------------------\n",
      "dict_values(['Amit', 'Pooja', 'Pune', 1234, ['Pink', 'Red', 'voilt', 'Orange', 'Black']])\n"
     ]
    }
   ],
   "source": [
    "# Only values are accessed                          \n",
    "\n",
    "name={\"Boys\":\"Amit\",\n",
    "      \"Girls\":\"Pooja\",\n",
    "      \"City\":\"Pune\",\n",
    "      \"Pin Code\":1234,\n",
    "      \"colour\":[\"Pink\",\"Red\",\"voilt\",\"Orange\",\"Black\"] \n",
    "     }\n",
    "\n",
    "print(name)\n",
    "print(\"-------------------------------------------------------------------------------------------\")\n",
    "x=name.values()\n",
    "print(x)"
   ]
  },
  {
   "cell_type": "code",
   "execution_count": 29,
   "metadata": {},
   "outputs": [
    {
     "name": "stdout",
     "output_type": "stream",
     "text": [
      "{'Boys': 'Amit', 'Girls': 'Pooja', 'City': 'Pune', 'Pin Code': 1234, 'colour': ['Pink', 'Red', 'voilt', 'Orange', 'Black']}\n",
      "----------------------------------------------------------------------------------------------------------------------\n",
      "dict_items([('Boys', 'Amit'), ('Girls', 'Pooja'), ('City', 'Pune'), ('Pin Code', 1234), ('colour', ['Pink', 'Red', 'voilt', 'Orange', 'Black'])])\n"
     ]
    }
   ],
   "source": [
    "# Keys and values are spearate accessed\n",
    "\n",
    "name={\"Boys\":\"Amit\",\n",
    "      \"Girls\":\"Pooja\",\n",
    "      \"City\":\"Pune\",\n",
    "      \"Pin Code\":1234,\n",
    "      \"colour\":[\"Pink\",\"Red\",\"voilt\",\"Orange\",\"Black\"] \n",
    "     }\n",
    "\n",
    "print(name)\n",
    "print(\"----------------------------------------------------------------------------------------------------------------------\")\n",
    "x=name.items()\n",
    "print(x)"
   ]
  },
  {
   "cell_type": "code",
   "execution_count": 31,
   "metadata": {},
   "outputs": [
    {
     "name": "stdout",
     "output_type": "stream",
     "text": [
      "{'Boys': 'Amit', 'Girls': 'Pooja', 'City': 'Pune', 'Pin Code': 1234}\n",
      "------------------------------------------------------------------------------------------\n",
      "{'Boys': 'Amit', 'Girls': 'Pooja', 'City': 'Pune', 'Pin Code': 1234, 'colour': 'Black'}\n"
     ]
    }
   ],
   "source": [
    "# Add key and value\n",
    "\n",
    "name={\"Boys\":\"Amit\",\n",
    "      \"Girls\":\"Pooja\",\n",
    "      \"City\":\"Pune\",\n",
    "      \"Pin Code\":1234}\n",
    "\n",
    "print(name)\n",
    "print(\"------------------------------------------------------------------------------------------\")\n",
    "name[\"colour\"]= \"Black\"\n",
    "print(name)"
   ]
  },
  {
   "cell_type": "code",
   "execution_count": 38,
   "metadata": {},
   "outputs": [
    {
     "name": "stdout",
     "output_type": "stream",
     "text": [
      "{'Boys': 'Amit', 'Girls': 'Pooja', 'City': 'Pune', 'Pin Code': 1234}\n",
      "*********************\n",
      "Yes.........\n"
     ]
    }
   ],
   "source": [
    "# check\n",
    "\n",
    "name={\"Boys\":\"Amit\",\n",
    "      \"Girls\":\"Pooja\",\n",
    "      \"City\":\"Pune\",\n",
    "      \"Pin Code\":1234}\n",
    "\n",
    "print(name)\n",
    "print(\"*********************\")\n",
    "if \"City\" in name:\n",
    "    print(\"Yes.........\")\n",
    "        \n",
    "   "
   ]
  },
  {
   "cell_type": "code",
   "execution_count": 40,
   "metadata": {},
   "outputs": [
    {
     "name": "stdout",
     "output_type": "stream",
     "text": [
      "{'Boys': 'Amit', 'Girls': 'Pooja', 'City': 'Pune', 'Pin Code': 2022}\n"
     ]
    }
   ],
   "source": [
    "# change values\n",
    "\n",
    "name={\"Boys\": \"Amit\",\n",
    "      \"Girls\": \"Pooja\",\n",
    "      \"City\": \"Pune\",\n",
    "      \"Pin Code\": 1234}\n",
    "\n",
    "name[\"Pin Code\"]= 2022\n",
    "print(name)"
   ]
  },
  {
   "cell_type": "code",
   "execution_count": 21,
   "metadata": {},
   "outputs": [
    {
     "name": "stdout",
     "output_type": "stream",
     "text": [
      "{'Boys': 'Amit', 'Girls': 'Pooja', 'Pin Code': 1234}\n"
     ]
    }
   ],
   "source": [
    "# change values\n",
    "\n",
    "name={\"Boys\": \"Amit\",\n",
    "      \"Girls\": \"Pooja\",\n",
    "      \"City\": \"Pune\",\n",
    "      \"Pin Code\": 1234}\n",
    "\n",
    "name.pop(\"City\")\n",
    "print(name)"
   ]
  },
  {
   "cell_type": "code",
   "execution_count": 19,
   "metadata": {},
   "outputs": [
    {
     "name": "stdout",
     "output_type": "stream",
     "text": [
      "{'Boys': 'Amit', 'Girls': 'Pooja', 'City': 'Pune'}\n"
     ]
    }
   ],
   "source": [
    "# change values\n",
    "\n",
    "name={\"Boys\": \"Amit\",\n",
    "      \"Girls\": \"Pooja\",\n",
    "      \"City\": \"Pune\",\n",
    "      \"Pin Code\": 1234}\n",
    "\n",
    "name.popitem()\n",
    "print(name)"
   ]
  },
  {
   "cell_type": "code",
   "execution_count": null,
   "metadata": {},
   "outputs": [],
   "source": []
  }
 ],
 "metadata": {
  "kernelspec": {
   "display_name": "Python 3",
   "language": "python",
   "name": "python3"
  },
  "language_info": {
   "codemirror_mode": {
    "name": "ipython",
    "version": 3
   },
   "file_extension": ".py",
   "mimetype": "text/x-python",
   "name": "python",
   "nbconvert_exporter": "python",
   "pygments_lexer": "ipython3",
   "version": "3.7.6"
  }
 },
 "nbformat": 4,
 "nbformat_minor": 4
}
