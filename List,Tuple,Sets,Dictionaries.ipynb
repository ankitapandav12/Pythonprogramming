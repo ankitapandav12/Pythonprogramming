{
 "cells": [
  {
   "cell_type": "markdown",
   "metadata": {},
   "source": [
    "# LIST :"
   ]
  },
  {
   "cell_type": "code",
   "execution_count": 17,
   "metadata": {},
   "outputs": [],
   "source": [
    "# How to acess items from list"
   ]
  },
  {
   "cell_type": "code",
   "execution_count": 1,
   "metadata": {},
   "outputs": [
    {
     "name": "stdout",
     "output_type": "stream",
     "text": [
      "['Priya', 'Jeet', 'Meet']\n"
     ]
    }
   ],
   "source": [
    "name=[\"Sagar\",\"Amit\",\"Amar\",\"Priya\",\"Jeet\",\"Meet\"]\n",
    "ab=name[-3:10]\n",
    "print(ab)"
   ]
  },
  {
   "cell_type": "code",
   "execution_count": 1,
   "metadata": {},
   "outputs": [
    {
     "name": "stdout",
     "output_type": "stream",
     "text": [
      "[]\n"
     ]
    }
   ],
   "source": [
    "name=[\"Sagar\",\"Amit\",\"Amar\",\"Priya\",\"Jeet\",\"Meet\"]\n",
    "ab=name[-3:-3]\n",
    "print(ab)"
   ]
  },
  {
   "cell_type": "code",
   "execution_count": 7,
   "metadata": {},
   "outputs": [
    {
     "name": "stdout",
     "output_type": "stream",
     "text": [
      "['ankita', 'kajal', 'nikita', 'renu', 'xyz']\n"
     ]
    }
   ],
   "source": [
    "name=[\"ankita\",\"kajal\",\"nikita\",\"renu\"]\n",
    "name.append(\"xyz\")\n",
    "print(name)"
   ]
  },
  {
   "cell_type": "code",
   "execution_count": 4,
   "metadata": {},
   "outputs": [
    {
     "name": "stdout",
     "output_type": "stream",
     "text": [
      "<class 'list'>\n"
     ]
    }
   ],
   "source": [
    "name=[\"ankita\",\"kajal\",\"nikita\",\"renu\"]\n",
    "print(type(name))"
   ]
  },
  {
   "cell_type": "code",
   "execution_count": 8,
   "metadata": {},
   "outputs": [
    {
     "name": "stdout",
     "output_type": "stream",
     "text": [
      "nikita\n"
     ]
    }
   ],
   "source": [
    "name=[\"ankita\",\"kajal\",\"nikita\",\"renu\"]\n",
    "ab=name[2]\n",
    "print(ab)"
   ]
  },
  {
   "cell_type": "code",
   "execution_count": 12,
   "metadata": {},
   "outputs": [
    {
     "name": "stdout",
     "output_type": "stream",
     "text": [
      "['nikita', 'renu']\n"
     ]
    }
   ],
   "source": [
    "name=[\"ankita\",\"kajal\",\"nikita\",\"renu\"]\n",
    "ab=name[-2:4]\n",
    "print(ab)"
   ]
  },
  {
   "cell_type": "code",
   "execution_count": 16,
   "metadata": {},
   "outputs": [
    {
     "name": "stdout",
     "output_type": "stream",
     "text": [
      "nikita\n"
     ]
    }
   ],
   "source": [
    "name=[\"ankita\",\"kajal\",\"nikita\",\"renu\"]\n",
    "ab=name[-2]\n",
    "print(ab)"
   ]
  },
  {
   "cell_type": "code",
   "execution_count": 18,
   "metadata": {},
   "outputs": [],
   "source": [
    "# Items Insert and Remove"
   ]
  },
  {
   "cell_type": "code",
   "execution_count": 20,
   "metadata": {},
   "outputs": [
    {
     "name": "stdout",
     "output_type": "stream",
     "text": [
      "['ankita', 'amit', 'kajal', 'vaibhav', 'renu', 'nikita', 'rahul', 'priya', 'akshay', 'xxx']\n"
     ]
    }
   ],
   "source": [
    "name=[\"ankita\",\"amit\",\"kajal\",\"vaibhav\",\"renu\",\"nikita\",\"rahul\",\"priya\",\"akshay\"]\n",
    "a=\"xxx\"\n",
    "name.append(a)\n",
    "print(name)"
   ]
  },
  {
   "cell_type": "code",
   "execution_count": 24,
   "metadata": {},
   "outputs": [
    {
     "name": "stdout",
     "output_type": "stream",
     "text": [
      "enter the name in listyyy\n",
      "['ankita', 'amit', 'kajal', 'vaibhav', 'renu', 'nikita', 'rahul', 'priya', 'akshay', 'yyy']\n"
     ]
    }
   ],
   "source": [
    "name=[\"ankita\",\"amit\",\"kajal\",\"vaibhav\",\"renu\",\"nikita\",\"rahul\",\"priya\",\"akshay\"]\n",
    "a=input(\"enter the name in list\")\n",
    "name.append(a)\n",
    "print(name)"
   ]
  },
  {
   "cell_type": "code",
   "execution_count": 25,
   "metadata": {},
   "outputs": [],
   "source": [
    "#Concatenate"
   ]
  },
  {
   "cell_type": "code",
   "execution_count": 28,
   "metadata": {},
   "outputs": [
    {
     "name": "stdout",
     "output_type": "stream",
     "text": [
      "['ankita', 'kajal', 'nikita', 'renu', 'ankita1', 'kajal1', 'nikita1', 'renu1']\n"
     ]
    }
   ],
   "source": [
    "name=[\"ankita\",\"kajal\",\"nikita\",\"renu\"]\n",
    "name1=[\"ankita1\",\"kajal1\",\"nikita1\",\"renu1\"]\n",
    "group=name+name1\n",
    "print(group)"
   ]
  },
  {
   "cell_type": "code",
   "execution_count": 29,
   "metadata": {},
   "outputs": [
    {
     "name": "stdout",
     "output_type": "stream",
     "text": [
      "[1, 2, 3, 4, 5, 6, 7, 8]\n"
     ]
    }
   ],
   "source": [
    "a=[1,2,3,4]\n",
    "b=[5,6,7,8]\n",
    "c=a+b\n",
    "print(c)"
   ]
  },
  {
   "cell_type": "code",
   "execution_count": 30,
   "metadata": {},
   "outputs": [
    {
     "name": "stdout",
     "output_type": "stream",
     "text": [
      "['kolhapur', 'pune', 'satara', 'mumbai', 'kolhapur1', 'pune1', 'satara1', 'mumbai1']\n"
     ]
    }
   ],
   "source": [
    "city=[\"kolhapur\",\"pune\",\"satara\",\"mumbai\"]\n",
    "city1=[\"kolhapur1\",\"pune1\",\"satara1\",\"mumbai1\"]\n",
    "xyz=city+city1\n",
    "print(xyz)"
   ]
  },
  {
   "cell_type": "code",
   "execution_count": 31,
   "metadata": {},
   "outputs": [
    {
     "name": "stdout",
     "output_type": "stream",
     "text": [
      "[74, 56, 12, 64, 98, 87, 61, 21]\n"
     ]
    }
   ],
   "source": [
    "p=[74,56,12,64]\n",
    "q=[98,87,61,21]\n",
    "ab=p+q\n",
    "print(ab)"
   ]
  },
  {
   "cell_type": "markdown",
   "metadata": {},
   "source": [
    "# Tuple :"
   ]
  },
  {
   "cell_type": "code",
   "execution_count": 3,
   "metadata": {},
   "outputs": [
    {
     "name": "stdout",
     "output_type": "stream",
     "text": [
      "<class 'tuple'>\n",
      "<class 'tuple'>\n"
     ]
    }
   ],
   "source": [
    "city=()\n",
    "city1=tuple()\n",
    "print(type(city))\n",
    "print(type(city1))"
   ]
  },
  {
   "cell_type": "code",
   "execution_count": 2,
   "metadata": {},
   "outputs": [
    {
     "name": "stdout",
     "output_type": "stream",
     "text": [
      "<class 'tuple'>\n",
      "<class 'tuple'>\n"
     ]
    }
   ],
   "source": [
    "name= ()\n",
    "name1=tuple()\n",
    "\n",
    "print(type(name))\n",
    "print(type(name1))"
   ]
  },
  {
   "cell_type": "code",
   "execution_count": 1,
   "metadata": {},
   "outputs": [
    {
     "name": "stdout",
     "output_type": "stream",
     "text": [
      "6\n"
     ]
    }
   ],
   "source": [
    "fruits=(\"mango\",\"orange\",\"apple\",\"guava\",\"grapes\",\"pineapple\")\n",
    "print(len(fruits))"
   ]
  },
  {
   "cell_type": "code",
   "execution_count": 2,
   "metadata": {},
   "outputs": [
    {
     "name": "stdout",
     "output_type": "stream",
     "text": [
      "<class 'tuple'>\n"
     ]
    }
   ],
   "source": [
    "city = (\"sangli\",\"kolhapur\",\"karad\",\"satara\",\"pune\",\"mumbai\")\n",
    "print(type(city))"
   ]
  },
  {
   "cell_type": "code",
   "execution_count": 3,
   "metadata": {},
   "outputs": [
    {
     "name": "stdout",
     "output_type": "stream",
     "text": [
      "()\n"
     ]
    }
   ],
   "source": [
    "city = (\"sangli\",\"kolhapur\",\"karad\",\"satara\",\"pune\",\"mumbai\")\n",
    "print(city[2:2])"
   ]
  },
  {
   "cell_type": "code",
   "execution_count": 5,
   "metadata": {},
   "outputs": [
    {
     "name": "stdout",
     "output_type": "stream",
     "text": [
      "('kolhapur', 'karad')\n"
     ]
    }
   ],
   "source": [
    "city = (\"sangli\",\"kolhapur\",\"karad\",\"satara\",\"pune\",\"mumbai\")\n",
    "print(city[1:-3])"
   ]
  },
  {
   "cell_type": "code",
   "execution_count": 1,
   "metadata": {},
   "outputs": [
    {
     "name": "stdout",
     "output_type": "stream",
     "text": [
      "()\n"
     ]
    }
   ],
   "source": [
    "city = (\"sangli\",\"kolhapur\",\"karad\",\"satara\",\"pune\",\"mumbai\")\n",
    "print(city[4:3])"
   ]
  },
  {
   "cell_type": "code",
   "execution_count": 3,
   "metadata": {},
   "outputs": [
    {
     "name": "stdout",
     "output_type": "stream",
     "text": [
      "('sangli', 'kolhapur', 'karad', 'satara', 'pune', 'mumbai', '1sangli', '1kolhapur', '1karad', '1satara', '1pune', '1mumbai')\n"
     ]
    }
   ],
   "source": [
    "city =(\"sangli\",\"kolhapur\",\"karad\",\"satara\",\"pune\",\"mumbai\")\n",
    "city1 =(\"1sangli\",\"1kolhapur\",\"1karad\",\"1satara\",\"1pune\",\"1mumbai\")\n",
    "p=city+city1\n",
    "print(p)"
   ]
  },
  {
   "cell_type": "code",
   "execution_count": 4,
   "metadata": {},
   "outputs": [
    {
     "name": "stdout",
     "output_type": "stream",
     "text": [
      "('sangli', 'kolhapur', 'karad', 'satara', 'pune', 'mumbai', 'sangli', 'kolhapur', 'karad', 'satara', 'pune', 'mumbai')\n"
     ]
    }
   ],
   "source": [
    "city =(\"sangli\",\"kolhapur\",\"karad\",\"satara\",\"pune\",\"mumbai\")\n",
    "p=city*2\n",
    "print(p)"
   ]
  },
  {
   "cell_type": "code",
   "execution_count": null,
   "metadata": {},
   "outputs": [],
   "source": []
  },
  {
   "cell_type": "markdown",
   "metadata": {},
   "source": [
    "# SETS :"
   ]
  },
  {
   "cell_type": "code",
   "execution_count": 5,
   "metadata": {},
   "outputs": [
    {
     "name": "stdout",
     "output_type": "stream",
     "text": [
      "<class 'set'>\n"
     ]
    }
   ],
   "source": [
    "name = {\"ankita\",\"kajal\",\"nikita\",\"renu\",\"sayali\"}\n",
    "print(type(name))"
   ]
  },
  {
   "cell_type": "code",
   "execution_count": 6,
   "metadata": {},
   "outputs": [
    {
     "name": "stdout",
     "output_type": "stream",
     "text": [
      "{'sayali', 'kajal', 'nikita', 'xxx', 'ankita', 'renu'}\n"
     ]
    }
   ],
   "source": [
    "name = {\"ankita\",\"kajal\",\"nikita\",\"renu\",\"sayali\"}\n",
    "name.add(\"xxx\")\n",
    "print(name)"
   ]
  },
  {
   "cell_type": "code",
   "execution_count": 14,
   "metadata": {},
   "outputs": [
    {
     "name": "stdout",
     "output_type": "stream",
     "text": [
      "{'sayali', 'kajal', 'nikita', 'ankita'}\n"
     ]
    }
   ],
   "source": [
    "name = {\"ankita\",\"kajal\",\"nikita\",\"renu\",\"sayali\"}\n",
    "name.remove(\"renu\")\n",
    "print(name)\n"
   ]
  },
  {
   "cell_type": "code",
   "execution_count": 2,
   "metadata": {},
   "outputs": [
    {
     "ename": "KeyError",
     "evalue": "''",
     "output_type": "error",
     "traceback": [
      "\u001b[1;31m---------------------------------------------------------------------------\u001b[0m",
      "\u001b[1;31mKeyError\u001b[0m                                  Traceback (most recent call last)",
      "\u001b[1;32m<ipython-input-2-779db50fa742>\u001b[0m in \u001b[0;36m<module>\u001b[1;34m\u001b[0m\n\u001b[0;32m      1\u001b[0m \u001b[0mname\u001b[0m \u001b[1;33m=\u001b[0m \u001b[1;33m{\u001b[0m\u001b[1;34m\"ankita\"\u001b[0m\u001b[1;33m,\u001b[0m\u001b[1;34m\"kajal\"\u001b[0m\u001b[1;33m,\u001b[0m\u001b[1;34m\"nikita\"\u001b[0m\u001b[1;33m,\u001b[0m\u001b[1;34m\"renu\"\u001b[0m\u001b[1;33m,\u001b[0m\u001b[1;34m\"sayali\"\u001b[0m\u001b[1;33m}\u001b[0m\u001b[1;33m\u001b[0m\u001b[1;33m\u001b[0m\u001b[0m\n\u001b[1;32m----> 2\u001b[1;33m \u001b[0mname\u001b[0m\u001b[1;33m.\u001b[0m\u001b[0mremove\u001b[0m\u001b[1;33m(\u001b[0m\u001b[1;34m\"\"\u001b[0m\u001b[1;33m)\u001b[0m\u001b[1;33m\u001b[0m\u001b[1;33m\u001b[0m\u001b[0m\n\u001b[0m\u001b[0;32m      3\u001b[0m \u001b[0mprint\u001b[0m\u001b[1;33m(\u001b[0m\u001b[0mname\u001b[0m\u001b[1;33m)\u001b[0m\u001b[1;33m\u001b[0m\u001b[1;33m\u001b[0m\u001b[0m\n",
      "\u001b[1;31mKeyError\u001b[0m: ''"
     ]
    }
   ],
   "source": [
    "name = {\"ankita\",\"kajal\",\"nikita\",\"renu\",\"sayali\"}\n",
    "name.remove(\"\")\n",
    "print(name)"
   ]
  },
  {
   "cell_type": "code",
   "execution_count": 18,
   "metadata": {},
   "outputs": [
    {
     "name": "stdout",
     "output_type": "stream",
     "text": [
      "{'sayali', 'kajal', 'nikita', 'ankita', 'renu'}\n"
     ]
    }
   ],
   "source": [
    "name = {\"ankita\",\"kajal\",\"nikita\",\"renu\",\"sayali\"}\n",
    "name.discard(\"xxx\")\n",
    "print(name)"
   ]
  },
  {
   "cell_type": "code",
   "execution_count": 23,
   "metadata": {},
   "outputs": [
    {
     "name": "stdout",
     "output_type": "stream",
     "text": [
      "{'sayali', 'kajal', '1ankita', '1renu', 'nikita', '1sayali', 'ankita', '1nikita', '1kajal', 'renu'}\n"
     ]
    }
   ],
   "source": [
    "name = {\"ankita\",\"kajal\",\"nikita\",\"renu\",\"sayali\"}\n",
    "name1 = {\"1ankita\",\"1kajal\",\"1nikita\",\"1renu\",\"1sayali\"}\n",
    "abc=name.union(name1)\n",
    "print(abc)"
   ]
  },
  {
   "cell_type": "code",
   "execution_count": 24,
   "metadata": {},
   "outputs": [
    {
     "name": "stdout",
     "output_type": "stream",
     "text": [
      "{74, 75, 49, 85, 87, 56, 25, 63}\n"
     ]
    }
   ],
   "source": [
    "value = {75,25,63,85}\n",
    "value1 = {87,56,49,74}\n",
    "set = value.union(value1)\n",
    "print(set)"
   ]
  },
  {
   "cell_type": "markdown",
   "metadata": {},
   "source": [
    "# DICTIONARIRS :"
   ]
  },
  {
   "cell_type": "code",
   "execution_count": 29,
   "metadata": {},
   "outputs": [
    {
     "name": "stdout",
     "output_type": "stream",
     "text": [
      "<class 'dict'>\n"
     ]
    }
   ],
   "source": [
    "name={}\n",
    "print(type(name))"
   ]
  },
  {
   "cell_type": "code",
   "execution_count": 5,
   "metadata": {},
   "outputs": [
    {
     "name": "stdout",
     "output_type": "stream",
     "text": [
      "<class 'dict'>\n"
     ]
    }
   ],
   "source": [
    "name={\"ab\":2}\n",
    "print(type(name))"
   ]
  },
  {
   "cell_type": "code",
   "execution_count": 3,
   "metadata": {},
   "outputs": [
    {
     "name": "stdout",
     "output_type": "stream",
     "text": [
      "<class 'dict'>\n"
     ]
    }
   ],
   "source": [
    "name2= dict()\n",
    "print(type(name2))"
   ]
  },
  {
   "cell_type": "code",
   "execution_count": 6,
   "metadata": {},
   "outputs": [
    {
     "name": "stdout",
     "output_type": "stream",
     "text": [
      "{'boy': 'amit', 'girl': 'pooja', 'city': 'kolhapur', 'pincode': 416109}\n"
     ]
    }
   ],
   "source": [
    "ppp={\"boy\":\"amit\",\n",
    "     \"girl\":\"pooja\",\n",
    "     \"city\":\"kolhapur\",\n",
    "     \"pincode\":416109\n",
    "       }\n",
    "print(ppp)"
   ]
  },
  {
   "cell_type": "code",
   "execution_count": 7,
   "metadata": {},
   "outputs": [
    {
     "name": "stdout",
     "output_type": "stream",
     "text": [
      "{'name': 'ankita', 'number': 1212, 'email_id': 'ank@12'}\n"
     ]
    }
   ],
   "source": [
    "data={\"name\":\"ankita\",\n",
    "     \"number\":1212,\n",
    "     \"email_id\":\"ank@12\"}\n",
    "print(data)"
   ]
  },
  {
   "cell_type": "code",
   "execution_count": null,
   "metadata": {},
   "outputs": [],
   "source": []
  }
 ],
 "metadata": {
  "kernelspec": {
   "display_name": "Python 3",
   "language": "python",
   "name": "python3"
  },
  "language_info": {
   "codemirror_mode": {
    "name": "ipython",
    "version": 3
   },
   "file_extension": ".py",
   "mimetype": "text/x-python",
   "name": "python",
   "nbconvert_exporter": "python",
   "pygments_lexer": "ipython3",
   "version": "3.7.6"
  }
 },
 "nbformat": 4,
 "nbformat_minor": 4
}
