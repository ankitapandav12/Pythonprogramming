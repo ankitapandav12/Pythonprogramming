{
 "cells": [
  {
   "cell_type": "code",
   "execution_count": 1,
   "metadata": {},
   "outputs": [
    {
     "name": "stdout",
     "output_type": "stream",
     "text": [
      "enter the value of a:52\n",
      "enter the value of b: 42\n",
      "94\n"
     ]
    }
   ],
   "source": [
    "a=int(input(\"enter the value of a:\"))\n",
    "b=int(input(\"enter the value of b: \"))\n",
    "print(a+b)"
   ]
  },
  {
   "cell_type": "code",
   "execution_count": 2,
   "metadata": {},
   "outputs": [
    {
     "name": "stdout",
     "output_type": "stream",
     "text": [
      "enter the value of a:52\n",
      "enter the value of b:41\n",
      "93\n",
      "enter the value of a:41\n",
      "enter the value of b:46\n",
      "87\n",
      "enter the value of a:88\n",
      "enter the value of b:77\n",
      "165\n"
     ]
    }
   ],
   "source": [
    "for x in range(3):\n",
    "    a=int(input(\"enter the value of a:\"))\n",
    "    b=int(input(\"enter the value of b:\"))\n",
    "    print(a+b)"
   ]
  },
  {
   "cell_type": "code",
   "execution_count": 3,
   "metadata": {},
   "outputs": [
    {
     "name": "stdout",
     "output_type": "stream",
     "text": [
      "enter the value of a:45\n",
      "enter the value of b:56\n",
      "101\n",
      "enter the value of a:68\n",
      "enter the value of b:78\n",
      "146\n",
      "enter the value of a:44\n",
      "enter the value of b:88\n",
      "132\n"
     ]
    }
   ],
   "source": [
    "for x in \"hii\":\n",
    "    a=int(input(\"enter the value of a:\"))\n",
    "    b=int(input(\"enter the value of b:\"))\n",
    "    print(a+b)"
   ]
  },
  {
   "cell_type": "code",
   "execution_count": 4,
   "metadata": {},
   "outputs": [
    {
     "name": "stdout",
     "output_type": "stream",
     "text": [
      "enter the value of n:3\n",
      "enter the value of a:57\n",
      "enter the value of b:79\n",
      "136\n",
      "enter the value of a:32\n",
      "enter the value of b:46\n",
      "78\n",
      "enter the value of a:77\n",
      "enter the value of b:52\n",
      "129\n"
     ]
    }
   ],
   "source": [
    "n=int(input(\"enter the value of n:\"))\n",
    "for x in range(n):\n",
    "    a=int(input(\"enter the value of a:\"))\n",
    "    b=int(input(\"enter the value of b:\"))\n",
    "    print(a+b)"
   ]
  },
  {
   "cell_type": "code",
   "execution_count": 6,
   "metadata": {},
   "outputs": [
    {
     "name": "stdout",
     "output_type": "stream",
     "text": [
      "kajal\n",
      "renu\n",
      "nikita\n"
     ]
    }
   ],
   "source": [
    "a=[\"kajal\",\"renu\",\"nikita\"]\n",
    "for x in a:\n",
    "    print(x)"
   ]
  },
  {
   "cell_type": "code",
   "execution_count": 10,
   "metadata": {},
   "outputs": [
    {
     "name": "stdout",
     "output_type": "stream",
     "text": [
      "this is  kajal\n",
      "enter the value of a:11\n",
      "enter the value of b:22\n",
      "33\n",
      "this is  nikita\n"
     ]
    }
   ],
   "source": [
    "a=[\"kajal\",\"renu\",\"nikita\"]\n",
    "for x in a:\n",
    "    if x==\"renu\":\n",
    "        a=int(input(\"enter the value of a:\"))\n",
    "        b=int(input(\"enter the value of b:\"))\n",
    "        print(a+b)\n",
    "    else:\n",
    "        print(\"this is \",x)\n",
    "        \n",
    "        "
   ]
  },
  {
   "cell_type": "code",
   "execution_count": null,
   "metadata": {},
   "outputs": [],
   "source": []
  }
 ],
 "metadata": {
  "kernelspec": {
   "display_name": "Python 3",
   "language": "python",
   "name": "python3"
  },
  "language_info": {
   "codemirror_mode": {
    "name": "ipython",
    "version": 3
   },
   "file_extension": ".py",
   "mimetype": "text/x-python",
   "name": "python",
   "nbconvert_exporter": "python",
   "pygments_lexer": "ipython3",
   "version": "3.7.6"
  }
 },
 "nbformat": 4,
 "nbformat_minor": 4
}
