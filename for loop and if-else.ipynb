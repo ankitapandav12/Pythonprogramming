{
 "cells": [
  {
   "cell_type": "code",
   "execution_count": 3,
   "metadata": {},
   "outputs": [
    {
     "name": "stdout",
     "output_type": "stream",
     "text": [
      "Not...!\n",
      "Not...!\n",
      "yes...!I am sakshi\n",
      "Not...!\n",
      "Not...!\n",
      "Not...!\n"
     ]
    }
   ],
   "source": [
    "ab=[\"ankita\",\"shruti\",\"sakshi\",\"nikita\",\"sayali\",\"harshada\"]\n",
    "for x in ab:\n",
    "    if x==\"sakshi\":\n",
    "        print(\"yes...!I am sakshi\")\n",
    "    else:\n",
    "        print(\"Not...!\")\n",
    "        "
   ]
  },
  {
   "cell_type": "code",
   "execution_count": 5,
   "metadata": {},
   "outputs": [
    {
     "name": "stdout",
     "output_type": "stream",
     "text": [
      "I am ankita\n",
      "enter the marks:99\n",
      "[99]\n",
      "enter the marks:98\n",
      "[99, 98]\n",
      "enter the marks:97\n",
      "[99, 98, 97]\n",
      "enter the marks:96\n",
      "[99, 98, 97, 96]\n",
      "enter the marks:95\n",
      "[99, 98, 97, 96, 95]\n"
     ]
    }
   ],
   "source": [
    "marks=[]\n",
    "a=[\"ankita\",\"shruti\",\"sakshi\",\"nikita\",\"sayali\",\"harshada\"]\n",
    "for x in a:\n",
    "    if x==\"ankita\":\n",
    "        print(\"I am ankita\")\n",
    "        for i in range(5):\n",
    "            m=int(input(\"enter the marks:\"))\n",
    "            marks.append(m)\n",
    "            print(marks)\n",
    "            \n",
    "        "
   ]
  },
  {
   "cell_type": "code",
   "execution_count": 2,
   "metadata": {},
   "outputs": [
    {
     "name": "stdout",
     "output_type": "stream",
     "text": [
      "I am shruti\n",
      "enter the marks:98\n",
      "[98]\n",
      "enter the marks:97\n",
      "[98, 97]\n",
      "I am nikita\n",
      "enter the marks:96\n",
      "[96]\n",
      "enter the marks:95\n",
      "[96, 95]\n"
     ]
    }
   ],
   "source": [
    "marks1=[]\n",
    "marks2=[]\n",
    "a1=[\"ankita\",\"shruti\",\"sakshi\",\"nikita\",\"sayali\",\"harshada\"]\n",
    "for x in a1:\n",
    "    if x==\"shruti\":\n",
    "        print(\"I am shruti\")\n",
    "        for i in range(2):\n",
    "            m=int(input(\"enter the marks:\"))\n",
    "            marks1.append(m)\n",
    "            print(marks1)\n",
    "    elif x==\"nikita\":\n",
    "        print(\"I am nikita\")\n",
    "        for j in range(2):\n",
    "            m1=int(input(\"enter the marks:\"))\n",
    "            marks2.append(m1)\n",
    "            print(marks2)\n",
    "            "
   ]
  },
  {
   "cell_type": "code",
   "execution_count": null,
   "metadata": {},
   "outputs": [],
   "source": []
  }
 ],
 "metadata": {
  "kernelspec": {
   "display_name": "Python 3",
   "language": "python",
   "name": "python3"
  },
  "language_info": {
   "codemirror_mode": {
    "name": "ipython",
    "version": 3
   },
   "file_extension": ".py",
   "mimetype": "text/x-python",
   "name": "python",
   "nbconvert_exporter": "python",
   "pygments_lexer": "ipython3",
   "version": "3.7.6"
  }
 },
 "nbformat": 4,
 "nbformat_minor": 4
}
