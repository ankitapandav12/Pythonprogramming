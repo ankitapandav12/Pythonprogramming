{
 "cells": [
  {
   "cell_type": "code",
   "execution_count": 1,
   "metadata": {},
   "outputs": [
    {
     "name": "stdout",
     "output_type": "stream",
     "text": [
      "0\n",
      "1\n",
      "2\n",
      "3\n",
      "4\n",
      "5\n"
     ]
    }
   ],
   "source": [
    "for i in range(6):\n",
    "    print(i)"
   ]
  },
  {
   "cell_type": "code",
   "execution_count": 2,
   "metadata": {},
   "outputs": [
    {
     "name": "stdout",
     "output_type": "stream",
     "text": [
      "Enter the 1st value : 99\n",
      "Enter the 2nd value : 88\n",
      "187\n"
     ]
    }
   ],
   "source": [
    "a=int(input(\"Enter the 1st value : \"))\n",
    "b=int(input(\"Enter the 2nd value : \"))\n",
    "c=a+b\n",
    "print(c)"
   ]
  },
  {
   "cell_type": "code",
   "execution_count": 5,
   "metadata": {},
   "outputs": [
    {
     "name": "stdout",
     "output_type": "stream",
     "text": [
      "enter the 1st value:96\n",
      "enter the 2nd value:75\n",
      "171\n",
      "__________________________________\n",
      "enter the 1st value:85\n",
      "enter the 2nd value:43\n",
      "128\n",
      "__________________________________\n"
     ]
    }
   ],
   "source": [
    "for i in range(2):\n",
    "    a=int(input(\"enter the 1st value:\"))\n",
    "    b=int(input(\"enter the 2nd value:\"))\n",
    "    c=a+b\n",
    "    print(c)\n",
    "    print(\"__________________________________\")"
   ]
  },
  {
   "cell_type": "code",
   "execution_count": 10,
   "metadata": {},
   "outputs": [
    {
     "name": "stdout",
     "output_type": "stream",
     "text": [
      "Enter the 1st value : 80\n",
      "Enter the 2nd value : 52\n",
      "values are False\n"
     ]
    }
   ],
   "source": [
    "a=int(input(\"Enter the 1st value : \"))\n",
    "b=int(input(\"Enter the 2nd value : \"))\n",
    "if a==80 and b==50:\n",
    "    print(\"values are True\")\n",
    "else:\n",
    "    print(\"values are False\")"
   ]
  },
  {
   "cell_type": "code",
   "execution_count": 1,
   "metadata": {},
   "outputs": [
    {
     "name": "stdout",
     "output_type": "stream",
     "text": [
      "Enter the 1st value : 4\n",
      "Enter the 2nd value : 2\n",
      "0\n",
      "1\n",
      "2\n",
      "3\n",
      "4\n",
      "5\n"
     ]
    }
   ],
   "source": [
    "def add(a,b):\n",
    "    c=a+b\n",
    "    return c\n",
    "def add1():\n",
    "    ab=add(a,b)\n",
    "    for i in range(ab):\n",
    "        print(i)\n",
    "a=int(input(\"Enter the 1st value : \"))\n",
    "b=int(input(\"Enter the 2nd value : \"))\n",
    "add1()"
   ]
  },
  {
   "cell_type": "code",
   "execution_count": 1,
   "metadata": {},
   "outputs": [
    {
     "name": "stdout",
     "output_type": "stream",
     "text": [
      "Enter the marks : 95\n",
      "95\n",
      "Enter the marks : 86\n",
      "86\n",
      "Enter the marks : 79\n",
      "79\n",
      "Enter the marks : 72\n",
      "72\n",
      "Enter the marks : 69\n",
      "69\n"
     ]
    }
   ],
   "source": [
    "def info():\n",
    "    name=[\"sayali\",\"seema\",\"pooja\",\"asfiya\",\"ankita\"]\n",
    "    for i in name:\n",
    "        if i==\"pooja\":\n",
    "            j=len(i)\n",
    "            return name\n",
    "def add():\n",
    "    ab=info()\n",
    "    for j in ab:\n",
    "        if j==\"pooja\":\n",
    "            for i in ab:\n",
    "                marks=int(input(\"Enter the marks : \"))\n",
    "                print(marks)\n",
    "add()"
   ]
  },
  {
   "cell_type": "code",
   "execution_count": null,
   "metadata": {},
   "outputs": [],
   "source": []
  }
 ],
 "metadata": {
  "kernelspec": {
   "display_name": "Python 3",
   "language": "python",
   "name": "python3"
  },
  "language_info": {
   "codemirror_mode": {
    "name": "ipython",
    "version": 3
   },
   "file_extension": ".py",
   "mimetype": "text/x-python",
   "name": "python",
   "nbconvert_exporter": "python",
   "pygments_lexer": "ipython3",
   "version": "3.7.6"
  }
 },
 "nbformat": 4,
 "nbformat_minor": 4
}
