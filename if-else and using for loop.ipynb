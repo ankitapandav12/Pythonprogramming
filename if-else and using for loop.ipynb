{
 "cells": [
  {
   "cell_type": "code",
   "execution_count": 50,
   "metadata": {},
   "outputs": [
    {
     "name": "stdout",
     "output_type": "stream",
     "text": [
      "Values are not equal\n",
      "_____________________\n",
      "Values are not equal\n",
      "_____________________\n"
     ]
    }
   ],
   "source": [
    "#assigned value\n",
    "for x in range(2):\n",
    "    a=10\n",
    "    b=20\n",
    "    if a==b:\n",
    "        print(\"Values are equal\")\n",
    "    else:\n",
    "        print(\"Values are not equal\")\n",
    "        print(\"_____________________\")"
   ]
  },
  {
   "cell_type": "code",
   "execution_count": 1,
   "metadata": {},
   "outputs": [
    {
     "name": "stdout",
     "output_type": "stream",
     "text": [
      "values are equal\n",
      "values are equal\n"
     ]
    }
   ],
   "source": [
    "for x in range (2):\n",
    "    a=15\n",
    "    b=15\n",
    "    if a==b:\n",
    "        print(\"values are equal\")\n",
    "    else:\n",
    "        print(\"values are not equal\")\n",
    "        "
   ]
  },
  {
   "cell_type": "code",
   "execution_count": 3,
   "metadata": {},
   "outputs": [
    {
     "name": "stdout",
     "output_type": "stream",
     "text": [
      "a is smaller\n"
     ]
    }
   ],
   "source": [
    "a=11\n",
    "b=22\n",
    "if a<b:\n",
    "    print(\"a is smaller\")\n",
    "else:\n",
    "    print(\"b is smaller\")\n"
   ]
  },
  {
   "cell_type": "code",
   "execution_count": 2,
   "metadata": {},
   "outputs": [
    {
     "name": "stdout",
     "output_type": "stream",
     "text": [
      "Enter value 1=12\n",
      "Enter value 2=13\n",
      "Not Equal !!\n",
      "________________\n",
      "Enter value 1=12\n",
      "Enter value 2=12\n",
      "Equal..\n"
     ]
    }
   ],
   "source": [
    "#assigned value\n",
    "n=1\n",
    "for x in range(n):\n",
    "    a=int(input(\"Enter value 1=\"))\n",
    "    b=int(input(\"Enter value 2=\"))\n",
    "    if a==b:\n",
    "        print(\"Equal..\")\n",
    "    else:\n",
    "        print(\"Not Equal !!\")\n",
    "        print(\"________________\")"
   ]
  },
  {
   "cell_type": "code",
   "execution_count": 3,
   "metadata": {},
   "outputs": [
    {
     "name": "stdout",
     "output_type": "stream",
     "text": [
      "Enter number:11\n",
      "Enter value1=12\n",
      "Enter value2=12\n",
      "Equal..\n",
      "Equal..\n",
      "Equal..\n",
      "Equal..\n",
      "Equal..\n",
      "Equal..\n",
      "Equal..\n",
      "Equal..\n",
      "Equal..\n",
      "Equal..\n",
      "Equal..\n"
     ]
    }
   ],
   "source": [
    "#assigned value\n",
    "n=int(input(\"Enter number:\"))\n",
    "a=int(input(\"Enter value1=\"))\n",
    "b=int(input(\"Enter value2=\"))\n",
    "for x in range(n):\n",
    "    if a==b:\n",
    "        print(\"Equal..\")\n",
    "    else:\n",
    "        print(\"Not Equal !!\")"
   ]
  },
  {
   "cell_type": "code",
   "execution_count": 2,
   "metadata": {},
   "outputs": [
    {
     "name": "stdout",
     "output_type": "stream",
     "text": [
      "Divisible..\n"
     ]
    }
   ],
   "source": [
    "#divisible check\n",
    "    #assigned value\n",
    "a=20\n",
    "b=2\n",
    "if a%b==0:\n",
    "    print(\"Divisible..\")\n",
    "else:\n",
    "    print(\"Not Divisible !!\")"
   ]
  },
  {
   "cell_type": "code",
   "execution_count": 8,
   "metadata": {},
   "outputs": [
    {
     "name": "stdout",
     "output_type": "stream",
     "text": [
      "Enter number1=12\n",
      "Enter number2=12\n",
      "correct\n"
     ]
    }
   ],
   "source": [
    "    \n",
    "a=int(input(\"Enter number1=\"))\n",
    "b=int(input(\"Enter number2=\"))\n",
    "if (a-b==0):\n",
    "    print(\"correct\")\n",
    "else:\n",
    "    print(\"Not correct\")"
   ]
  },
  {
   "cell_type": "code",
   "execution_count": null,
   "metadata": {},
   "outputs": [],
   "source": [
    "for x in range(4):\n",
    "    a=int(input(\"Enter number1=\"))\n",
    "    b=int(input(\"Enter number2=\"))\n",
    "    c = a-b\n",
    "    if c==0:\n",
    "        print(\"correct\")\n",
    "    else:\n",
    "        print(\"Not correct\")"
   ]
  },
  {
   "cell_type": "code",
   "execution_count": 10,
   "metadata": {},
   "outputs": [
    {
     "name": "stdout",
     "output_type": "stream",
     "text": [
      "Enter number1=21\n",
      "Enter number2=34\n",
      "Addition is incorrect:\n",
      "______________________________________\n",
      "Enter number1=20\n",
      "Enter number2=14\n",
      "Addition is correct:\n",
      "______________________________________\n",
      "Enter number1=32\n",
      "Enter number2=2\n",
      "Addition is correct:\n",
      "______________________________________\n"
     ]
    }
   ],
   "source": [
    "#user defined\n",
    "for x in range(3):\n",
    "    a=int(input(\"Enter number1=\"))\n",
    "    b=int(input(\"Enter number2=\"))\n",
    "    if a+b==34:\n",
    "        print(\"Addition is correct:\")\n",
    "    else:\n",
    "        print(\"Addition is incorrect:\")\n",
    "    print(\"______________________________________\")"
   ]
  },
  {
   "cell_type": "code",
   "execution_count": 17,
   "metadata": {},
   "outputs": [
    {
     "name": "stdout",
     "output_type": "stream",
     "text": [
      "A is greater: A is greater: A is greater: A is greater: A is greater: "
     ]
    }
   ],
   "source": [
    "p=\"hello\"\n",
    "for x in p:\n",
    "    a=20\n",
    "    b=10\n",
    "    if a>b:\n",
    "        print(\"A is greater:\",end=' ')\n",
    "    else:\n",
    "        print(\"p:\",end=' ')"
   ]
  },
  {
   "cell_type": "code",
   "execution_count": 31,
   "metadata": {},
   "outputs": [
    {
     "name": "stdout",
     "output_type": "stream",
     "text": [
      "* 1\n",
      "* 2\n",
      "* 2\n",
      "* 3\n",
      "* 3\n",
      "* 3\n",
      "* 4\n",
      "* 4\n",
      "* 4\n",
      "* 4\n"
     ]
    }
   ],
   "source": [
    "for x in range(5):\n",
    "    for y in range(x):\n",
    "        print(\"*\",x)"
   ]
  },
  {
   "cell_type": "code",
   "execution_count": 29,
   "metadata": {},
   "outputs": [
    {
     "name": "stdout",
     "output_type": "stream",
     "text": [
      "* * * * * * * * * * "
     ]
    }
   ],
   "source": [
    "for x in range(5):\n",
    "    for y in range(x):\n",
    "        print(\"*\",end=' ')"
   ]
  },
  {
   "cell_type": "code",
   "execution_count": 46,
   "metadata": {},
   "outputs": [
    {
     "name": "stdout",
     "output_type": "stream",
     "text": [
      " \n",
      "*\n",
      " \n",
      "*\n",
      "*\n",
      " \n",
      "*\n",
      "*\n",
      "*\n",
      " \n",
      "*\n",
      "*\n",
      "*\n",
      "*\n",
      " \n",
      "*\n",
      "*\n",
      "*\n",
      "*\n",
      "*\n",
      " \n"
     ]
    }
   ],
   "source": [
    "for x in range(6):\n",
    "    for y in range(x):\n",
    "        print(\"*\")\n",
    "    print(\" \")"
   ]
  },
  {
   "cell_type": "code",
   "execution_count": null,
   "metadata": {},
   "outputs": [],
   "source": []
  },
  {
   "cell_type": "code",
   "execution_count": null,
   "metadata": {},
   "outputs": [],
   "source": [
    "#logic comparison\n",
    "    #user defined\n",
    "n=2\n",
    "for x in range(n):\n",
    "    a=int(input(\"Enter number=\"))\n",
    "    if a>25 or a<10:\n",
    "        print(\"Correct..\")\n",
    "    else:\n",
    "        print(\"Not correct !!\")"
   ]
  },
  {
   "cell_type": "code",
   "execution_count": 1,
   "metadata": {},
   "outputs": [
    {
     "name": "stdout",
     "output_type": "stream",
     "text": [
      "Enter number=45\n",
      "Correct..\n",
      "Enter number=46\n",
      "Correct..\n"
     ]
    }
   ],
   "source": [
    "n=2\n",
    "for x in range(n):\n",
    "    a=int(input(\"Enter number=\"))\n",
    "    if a>25 or a<10:\n",
    "        print(\"Correct..\")\n",
    "    else:\n",
    "        print(\"Not correct !!\")"
   ]
  },
  {
   "cell_type": "code",
   "execution_count": 2,
   "metadata": {},
   "outputs": [
    {
     "name": "stdout",
     "output_type": "stream",
     "text": [
      "Enter city name:karad\n",
      "Welcome to karad\n",
      "Enter city name:sangli\n",
      "City not found !!\n"
     ]
    }
   ],
   "source": [
    "#city program \n",
    "city=[\"karad\",\"satara\",\"pune\",\"mumbai\"]\n",
    "for i in range(2):\n",
    "    a=input(\"Enter city name:\")\n",
    "    for x in city:\n",
    "        if x==a:\n",
    "            print(\"Welcome to\",a)\n",
    "else:\n",
    "    print(\"City not found !!\")"
   ]
  },
  {
   "cell_type": "code",
   "execution_count": 1,
   "metadata": {},
   "outputs": [
    {
     "name": "stdout",
     "output_type": "stream",
     "text": [
      "Enter girl name=Kajal\n",
      "Girl found.. Kajal\n",
      "Enter girl name=kajal\n",
      "Not found !!\n"
     ]
    }
   ],
   "source": [
    "#sunday assignment\n",
    "#girl\n",
    "girl=[\"Kajal\",\"Renu\",\"Nalini\"]\n",
    "for i in range(2):\n",
    "    n=input(\"Enter girl name=\")\n",
    "    for g in girl:\n",
    "        if n==g:\n",
    "            print(\"Girl found..\",n)\n",
    "else:\n",
    "    print(\"Not found !!\")"
   ]
  },
  {
   "cell_type": "code",
   "execution_count": 1,
   "metadata": {},
   "outputs": [
    {
     "name": "stdout",
     "output_type": "stream",
     "text": [
      "b is greater\n"
     ]
    }
   ],
   "source": [
    "a=10\n",
    "b=20\n",
    "if a>b:\n",
    "    print(\"a is greater\")\n",
    "else:\n",
    "    print(\"b is greater\")"
   ]
  },
  {
   "cell_type": "code",
   "execution_count": 11,
   "metadata": {},
   "outputs": [
    {
     "name": "stdout",
     "output_type": "stream",
     "text": [
      "iccorrect\n"
     ]
    }
   ],
   "source": [
    "a=98\n",
    "b=94\n",
    "if a==b:\n",
    "    print(\"correct\")\n",
    "else:\n",
    "    print(\"iccorrect\")"
   ]
  },
  {
   "cell_type": "code",
   "execution_count": 5,
   "metadata": {},
   "outputs": [
    {
     "name": "stdout",
     "output_type": "stream",
     "text": [
      "enter the value of a:75\n",
      "enter the value of b:45\n",
      "iccorrect\n",
      "______________________\n",
      "enter the value of a:12\n",
      "enter the value of b:12\n",
      "correct\n"
     ]
    }
   ],
   "source": [
    "for x in range(2):\n",
    "    a=int(input(\"enter the value of a:\"))\n",
    "    b=int(input(\"enter the value of b:\"))\n",
    "    if a==b:\n",
    "        print(\"correct\")\n",
    "    else:\n",
    "        print(\"iccorrect\")\n",
    "        print(\"______________________\")"
   ]
  },
  {
   "cell_type": "code",
   "execution_count": null,
   "metadata": {},
   "outputs": [],
   "source": []
  }
 ],
 "metadata": {
  "kernelspec": {
   "display_name": "Python 3",
   "language": "python",
   "name": "python3"
  },
  "language_info": {
   "codemirror_mode": {
    "name": "ipython",
    "version": 3
   },
   "file_extension": ".py",
   "mimetype": "text/x-python",
   "name": "python",
   "nbconvert_exporter": "python",
   "pygments_lexer": "ipython3",
   "version": "3.7.6"
  }
 },
 "nbformat": 4,
 "nbformat_minor": 4
}
