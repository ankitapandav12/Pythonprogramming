{
 "cells": [
  {
   "cell_type": "code",
   "execution_count": 1,
   "metadata": {},
   "outputs": [
    {
     "name": "stdout",
     "output_type": "stream",
     "text": [
      "0\n",
      "1\n",
      "2\n",
      "3\n",
      "4\n",
      "5\n",
      "6\n",
      "7\n",
      "8\n",
      "9\n"
     ]
    }
   ],
   "source": [
    "for x in range(10):\n",
    "    print(x)"
   ]
  },
  {
   "cell_type": "code",
   "execution_count": 3,
   "metadata": {},
   "outputs": [
    {
     "name": "stdout",
     "output_type": "stream",
     "text": [
      "enter the value of a:50\n",
      "enter the value of b:40\n",
      "90\n",
      "enter the value of a:11\n",
      "enter the value of b:22\n",
      "33\n",
      "enter the value of a:88\n",
      "enter the value of b:50\n",
      "138\n"
     ]
    }
   ],
   "source": [
    "for x in range(3):\n",
    "    a=int(input(\"enter the value of a:\"))\n",
    "    b=int(input(\"enter the value of b:\"))\n",
    "    c=a+b\n",
    "    print(c)"
   ]
  },
  {
   "cell_type": "code",
   "execution_count": 2,
   "metadata": {},
   "outputs": [
    {
     "name": "stdout",
     "output_type": "stream",
     "text": [
      "enter the value of a:50\n",
      "enter the value of b:40\n",
      "values false\n"
     ]
    }
   ],
   "source": [
    "a=int(input(\"enter the value of a:\"))\n",
    "b=int(input(\"enter the value of b:\"))\n",
    "if a==50 and b==30:\n",
    "    print(\"values true\")\n",
    "else:\n",
    "    print(\"values false\")\n",
    "\n"
   ]
  },
  {
   "cell_type": "code",
   "execution_count": 11,
   "metadata": {},
   "outputs": [
    {
     "name": "stdout",
     "output_type": "stream",
     "text": [
      "enter the value of a:2\n",
      "enter the value of b:3\n",
      "value is odd\n"
     ]
    }
   ],
   "source": [
    "u=[]\n",
    "a1=int(input(\"enter the value of a:\"))\n",
    "b1=int(input(\"enter the value of b:\"))\n",
    "c=a1+b1\n",
    "u.append(c)\n",
    "for y in u:\n",
    "    if y%2==0:\n",
    "        print(\"value is even\")\n",
    "    else:\n",
    "        print(\"value is odd\")    "
   ]
  },
  {
   "cell_type": "code",
   "execution_count": 6,
   "metadata": {},
   "outputs": [
    {
     "name": "stdout",
     "output_type": "stream",
     "text": [
      "enter the marks:85\n",
      "pass with first class\n",
      "enter the marks:96\n",
      "pass with first class\n",
      "enter the marks:75\n",
      "pass with good marks\n",
      "enter the marks:33\n",
      "fail\n"
     ]
    }
   ],
   "source": [
    "def details():\n",
    "    if a>=80 and a<=100:\n",
    "        print(\"pass with first class\")\n",
    "    elif a>=60 and a<=80:\n",
    "        print(\"pass with good marks\")\n",
    "    elif a<35:\n",
    "        print(\"fail\")\n",
    "    else:\n",
    "        print(\"input is wrong\")\n",
    "for x in range(4):\n",
    "    a=int(input(\"enter the marks:\"))\n",
    "    details()"
   ]
  },
  {
   "cell_type": "code",
   "execution_count": null,
   "metadata": {},
   "outputs": [],
   "source": []
  }
 ],
 "metadata": {
  "kernelspec": {
   "display_name": "Python 3",
   "language": "python",
   "name": "python3"
  },
  "language_info": {
   "codemirror_mode": {
    "name": "ipython",
    "version": 3
   },
   "file_extension": ".py",
   "mimetype": "text/x-python",
   "name": "python",
   "nbconvert_exporter": "python",
   "pygments_lexer": "ipython3",
   "version": "3.7.6"
  }
 },
 "nbformat": 4,
 "nbformat_minor": 4
}
