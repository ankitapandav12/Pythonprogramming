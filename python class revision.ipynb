{
 "cells": [
  {
   "cell_type": "code",
   "execution_count": 3,
   "metadata": {
    "scrolled": true
   },
   "outputs": [
    {
     "name": "stdout",
     "output_type": "stream",
     "text": [
      "Name: Renu\n",
      "Age: 23\n"
     ]
    }
   ],
   "source": [
    "class person():\n",
    "    def __init__(self, name, age):\n",
    "        self.name = name\n",
    "        self.age = age\n",
    "        \n",
    "p1 = person(\"Renu\",23)\n",
    "\n",
    "print(\"Name:\",p1.name)\n",
    "print(\"Age:\",p1.age)"
   ]
  },
  {
   "cell_type": "code",
   "execution_count": 2,
   "metadata": {},
   "outputs": [
    {
     "name": "stdout",
     "output_type": "stream",
     "text": [
      "John\n",
      "36\n"
     ]
    }
   ],
   "source": [
    "class Person:\n",
    "    def __init__(self, name, age):\n",
    "        self.name = name\n",
    "        self.age = age\n",
    "\n",
    "p1 = Person(\"John\", 36)\n",
    "\n",
    "print(p1.name)\n",
    "print(p1.age)"
   ]
  },
  {
   "cell_type": "code",
   "execution_count": 2,
   "metadata": {},
   "outputs": [
    {
     "name": "stdout",
     "output_type": "stream",
     "text": [
      "Hello my name is John\n"
     ]
    }
   ],
   "source": [
    "class Person:\n",
    "    def __init__(self, name, age):\n",
    "        self.name = name\n",
    "        self.age = age\n",
    "\n",
    "    def myfunc(self):\n",
    "        print(\"Hello my name is \" + self.name)\n",
    "\n",
    "p1 = Person(\"John\", 36)\n",
    "p1.myfunc()\n"
   ]
  },
  {
   "cell_type": "code",
   "execution_count": 14,
   "metadata": {},
   "outputs": [
    {
     "name": "stdout",
     "output_type": "stream",
     "text": [
      "Name:  Kajal\n",
      "Roll_no:  34\n",
      "Department:  CSE\n"
     ]
    }
   ],
   "source": [
    "class department:\n",
    "    def __init__(self,Name,Roll_no,Department):\n",
    "        self.Name = Name\n",
    "        self.Roll_no = Roll_no\n",
    "        self.Department = Department\n",
    "        \n",
    "m1 = department(\"Kajal\",34,\"CSE\")\n",
    "print(\"Name: \",m1.Name)\n",
    "print(\"Roll_no: \",m1.Roll_no)\n",
    "print(\"Department: \",m1.Department)"
   ]
  },
  {
   "cell_type": "code",
   "execution_count": 4,
   "metadata": {},
   "outputs": [
    {
     "name": "stdout",
     "output_type": "stream",
     "text": [
      "Enter the name:Renu\n",
      "Enter the Roll_no:11\n",
      "Department Name:CSE\n",
      "**********************************************\n",
      "Name : Renu\n",
      "Roll_number : 11\n",
      "Department name : CSE\n"
     ]
    }
   ],
   "source": [
    "class student:\n",
    "    def profile(self):\n",
    "        self.name = input(\"Enter the name:\")\n",
    "        self.Roll_no = int(input(\"Enter the Roll_no:\"))\n",
    "        self.Department = input(\"Enter the Department Name:\")\n",
    "    def show(self):\n",
    "        print(\"**********************************************\")\n",
    "        print(\"Name :\",self.name)\n",
    "        print(\"Roll_number :\",self.Roll_no)\n",
    "        print(\"Department name :\",self.Department)\n",
    "        \n",
    "obj=student()\n",
    "obj.profile()\n",
    "obj.show()"
   ]
  },
  {
   "cell_type": "code",
   "execution_count": 1,
   "metadata": {},
   "outputs": [
    {
     "name": "stdout",
     "output_type": "stream",
     "text": [
      "Enter the product_number:2\n",
      "Enter the product_id:4353465\n",
      "Enter the product_name:Sugar\n",
      "Enter the product_cost:50\n",
      "Enter the product_PKD_date:1/2/22\n",
      "Enter the product_EXP_date:2/3/22\n",
      "Product_No.: 2 ______________ Product_ID: 4353465 _____________ Product_Name: Sugar\n",
      "Product_Cost: 50 _____________ Product_PKD_date: 1/2/22 ______________ Product_EXP_date: 2/3/22\n",
      "******************************************************************************************\n",
      "Enter the product_number:3\n",
      "Enter the product_id:4365436\n",
      "Enter the product_name:Biscuit\n",
      "Enter the product_cost:60\n",
      "Enter the product_PKD_date:10/1/22\n",
      "Enter the product_EXP_date:22/1/22\n",
      "Product_No.: 3 ______________ Product_ID: 4365436 _____________ Product_Name: Biscuit\n",
      "Product_Cost: 60 _____________ Product_PKD_date: 10/1/22 ______________ Product_EXP_date: 22/1/22\n",
      "******************************************************************************************\n"
     ]
    }
   ],
   "source": [
    "class DMART:\n",
    "    def product(self):\n",
    "        self.product_no = int(input(\"Enter the product_number:\"))\n",
    "        self.product_id = int(input(\"Enter the product_id:\"))\n",
    "        self.product_name = input(\"Enter the product_name:\")\n",
    "        self.product_cost = int(input(\"Enter the product_cost:\"))\n",
    "        self.product_PKD_date = input(\"Enter the product_PKD_date:\")\n",
    "        self.product_EXP_date = input(\"Enter the product_EXP_date:\")\n",
    "    def show(self):\n",
    "        print(\"Product_No.:\",self.product_no,\"______________\",\"Product_ID:\",self.product_id,\"_____________\",\"Product_Name:\", self.product_name)\n",
    "        print(\"Product_Cost:\",self.product_cost,\"_____________\",\"Product_PKD_date:\",self.product_PKD_date,\"______________\",\"Product_EXP_date:\",self.product_EXP_date)\n",
    "        print(\"******************************************************************************************\")\n",
    "\n",
    "for x in range(2):\n",
    "    obj=DMART()\n",
    "    obj.product()\n",
    "    obj.show()\n",
    "\n"
   ]
  },
  {
   "cell_type": "code",
   "execution_count": 3,
   "metadata": {},
   "outputs": [
    {
     "name": "stdout",
     "output_type": "stream",
     "text": [
      "Registration_No: 2003\n",
      "Name: Renu\n",
      "Login_ID: Renu@02\n",
      "Password 4365\n"
     ]
    }
   ],
   "source": [
    "class Register:\n",
    "    def __init__(self,Regi_No,Name,Login_id,Password):\n",
    "        self.Regi_No = Regi_No\n",
    "        self.Name = Name\n",
    "        self.Login_id = Login_id\n",
    "        self.Password = Password\n",
    "        \n",
    "m1 = Register(2003,\"Renu\",\"Renu@02\",4365)\n",
    "print(\"Registration_No:\",m1.Regi_No)\n",
    "print(\"Name:\",m1.Name)\n",
    "print(\"Login_ID:\",m1.Login_id)\n",
    "print(\"Password\",m1.Password)"
   ]
  },
  {
   "cell_type": "code",
   "execution_count": 2,
   "metadata": {
    "scrolled": true
   },
   "outputs": [
    {
     "name": "stdout",
     "output_type": "stream",
     "text": [
      "Enter the Registration no.:1001\n",
      "Enter the Name:kajal\n",
      "Enter the user name:kaju99\n",
      "Enter the Login ID:kajal@07\n",
      "Enter the Password07052000\n",
      "----------------------------------------------\n",
      "Registration_NO:  1001\n",
      "Name:  kajal\n",
      "User Name:  kaju99\n",
      "Login ID:  kajal@07\n",
      "Password:  7052000\n",
      "********************************************\n",
      "********************************************\n",
      "Enter the Registration no.:1002\n",
      "Enter the Name:Renu\n",
      "Enter the user name:rk4655\n",
      "Enter the Login ID:renu@02\n",
      "Enter the Password02111999\n",
      "----------------------------------------------\n",
      "Registration_NO:  1002\n",
      "Name:  Renu\n",
      "User Name:  rk4655\n",
      "Login ID:  renu@02\n",
      "Password:  2111999\n",
      "********************************************\n",
      "********************************************\n",
      "Enter the Registration no.:1003\n",
      "Enter the Name:Nikita\n",
      "Enter the user name:nkis35\n",
      "Enter the Login ID:niku@454\n",
      "Enter the Password34577\n",
      "----------------------------------------------\n",
      "Registration_NO:  1003\n",
      "Name:  Nikita\n",
      "User Name:  nkis35\n",
      "Login ID:  niku@454\n",
      "Password:  34577\n",
      "********************************************\n",
      "********************************************\n"
     ]
    }
   ],
   "source": [
    "class Register:\n",
    "    def __init__(self):\n",
    "        self.Regi_no = int(input(\"Enter the Registration no.:\"))\n",
    "        self.Name = input(\"Enter the Name:\")\n",
    "        self.User_name = input(\"Enter the user name:\")\n",
    "        self.Login_id = input(\"Enter the Login ID:\")\n",
    "        self.Password = int(input(\"Enter the Password\"))\n",
    "        print(\"----------------------------------------------\")\n",
    "        \n",
    "for x in range(3):\n",
    "    Regi = Register()\n",
    "    print(\"Registration_NO: \",Regi.Regi_no)\n",
    "    print(\"Name: \",Regi.Name)\n",
    "    print(\"User Name: \",Regi.User_name)\n",
    "    print(\"Login ID: \",Regi.Login_id)\n",
    "    print(\"Password: \",Regi.Password)\n",
    "    print(\"********************************************\")\n",
    "    print(\"********************************************\")"
   ]
  },
  {
   "cell_type": "code",
   "execution_count": 1,
   "metadata": {
    "scrolled": true
   },
   "outputs": [
    {
     "name": "stdout",
     "output_type": "stream",
     "text": [
      "Enter the ID:1001\n",
      "Enter the Department:Electrical\n",
      "Enter the name:Renu\n",
      "Enter the address:Karad\n",
      "Enter the Contact_No:8007274301\n",
      "Enter the Email_id:renu@02\n",
      "--------------------------------------------------\n",
      "ID no: 1001\n",
      "Department Name: Electrical\n",
      "Name: Renu\n",
      "Address: Karad\n",
      "Contact_no.: 8007274301\n",
      "Email_ID: renu@02\n",
      "*************************************************\n",
      "*************************************************\n",
      "Enter the ID:1002\n",
      "Enter the Department:CSE\n",
      "Enter the name:kajal\n",
      "Enter the address:Hatkanangale\n",
      "Enter the Contact_No:7888247764\n",
      "Enter the Email_id:kajal@07\n",
      "--------------------------------------------------\n",
      "ID no: 1002\n",
      "Department Name: CSE\n",
      "Name: kajal\n",
      "Address: Hatkanangale\n",
      "Contact_no.: 7888247764\n",
      "Email_ID: kajal@07\n",
      "*************************************************\n",
      "*************************************************\n"
     ]
    }
   ],
   "source": [
    "class college:\n",
    "    def student_info(self):\n",
    "        self.ID = int(input(\"Enter the ID:\"))\n",
    "        self.Department = input(\"Enter the Department:\")\n",
    "        self.Name = input(\"Enter the name:\")\n",
    "        self.Address = input(\"Enter the address:\")\n",
    "        self.Contact_no = int(input(\"Enter the Contact_No:\"))\n",
    "        self.Email_ID = input(\"Enter the Email_id:\")\n",
    "        print(\"--------------------------------------------------\")\n",
    "    def show(self):\n",
    "        print(\"ID no:\",self.ID)\n",
    "        print(\"Department Name:\",self.Department)\n",
    "        print(\"Name:\",self.Name)\n",
    "        print(\"Address:\",self.Address)\n",
    "        print(\"Contact_no.:\",self.Contact_no)\n",
    "        print(\"Email_ID:\",self.Email_ID)\n",
    "        print(\"*************************************************\")\n",
    "        print(\"*************************************************\")\n",
    "        \n",
    "for x in range(2):\n",
    "    obj=college()\n",
    "    obj.student_info()\n",
    "    obj.show()        "
   ]
  },
  {
   "cell_type": "code",
   "execution_count": null,
   "metadata": {},
   "outputs": [],
   "source": [
    "class         "
   ]
  }
 ],
 "metadata": {
  "kernelspec": {
   "display_name": "Python 3",
   "language": "python",
   "name": "python3"
  },
  "language_info": {
   "codemirror_mode": {
    "name": "ipython",
    "version": 3
   },
   "file_extension": ".py",
   "mimetype": "text/x-python",
   "name": "python",
   "nbconvert_exporter": "python",
   "pygments_lexer": "ipython3",
   "version": "3.7.6"
  }
 },
 "nbformat": 4,
 "nbformat_minor": 5
}
