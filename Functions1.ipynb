{
 "cells": [
  {
   "cell_type": "code",
   "execution_count": 1,
   "metadata": {},
   "outputs": [],
   "source": [
    "# Function without argument & Function without return :"
   ]
  },
  {
   "cell_type": "code",
   "execution_count": 2,
   "metadata": {},
   "outputs": [
    {
     "name": "stdout",
     "output_type": "stream",
     "text": [
      "30\n"
     ]
    }
   ],
   "source": [
    "def add():\n",
    "    a=50\n",
    "    b=20\n",
    "    c=a-b\n",
    "    print(c)\n",
    "add()    "
   ]
  },
  {
   "cell_type": "code",
   "execution_count": 4,
   "metadata": {},
   "outputs": [
    {
     "name": "stdout",
     "output_type": "stream",
     "text": [
      "enter the value of a:45\n",
      "enter the value of b:62\n",
      "enter the value of c:78\n",
      "29\n"
     ]
    }
   ],
   "source": [
    "def operation():\n",
    "    a=int(input(\"enter the value of a:\"))\n",
    "    b=int(input(\"enter the value of b:\"))\n",
    "    c=int(input(\"enter the value of c:\"))\n",
    "    total=a+b-c\n",
    "    print(total)\n",
    "operation()    "
   ]
  },
  {
   "cell_type": "code",
   "execution_count": 5,
   "metadata": {},
   "outputs": [
    {
     "name": "stdout",
     "output_type": "stream",
     "text": [
      "41.0\n"
     ]
    }
   ],
   "source": [
    "def div():\n",
    "    a=82\n",
    "    b=2\n",
    "    print(a/b)\n",
    "div()    "
   ]
  },
  {
   "cell_type": "code",
   "execution_count": 7,
   "metadata": {},
   "outputs": [
    {
     "name": "stdout",
     "output_type": "stream",
     "text": [
      "enter the value of a:63\n",
      "enter the value of b:12\n",
      "756\n"
     ]
    }
   ],
   "source": [
    "def mul():\n",
    "    a=int(input(\"enter the value of a:\"))\n",
    "    b=int(input(\"enter the value of b:\"))\n",
    "    print(a*b)\n",
    "mul()  "
   ]
  },
  {
   "cell_type": "code",
   "execution_count": 8,
   "metadata": {},
   "outputs": [
    {
     "name": "stdout",
     "output_type": "stream",
     "text": [
      "629\n",
      "1187\n",
      "___________\n",
      "629\n",
      "1187\n",
      "___________\n"
     ]
    }
   ],
   "source": [
    "for x in range(2):\n",
    "    def sub():\n",
    "        a=752\n",
    "        b=123\n",
    "        print(a-b)\n",
    "    sub()\n",
    "    def add():\n",
    "        a=725\n",
    "        b=462\n",
    "        print(a+b)\n",
    "        print(\"___________\")\n",
    "    add()    "
   ]
  },
  {
   "cell_type": "code",
   "execution_count": 9,
   "metadata": {},
   "outputs": [
    {
     "name": "stdout",
     "output_type": "stream",
     "text": [
      "149\n",
      "1032\n",
      "__________________\n",
      "149\n",
      "1032\n",
      "__________________\n",
      "149\n",
      "1032\n",
      "__________________\n",
      "149\n",
      "1032\n",
      "__________________\n"
     ]
    }
   ],
   "source": [
    "for x in range(4):\n",
    "    def add():\n",
    "        a=54\n",
    "        b=95\n",
    "        print(a+b)\n",
    "    add()  \n",
    " \n",
    "    \n",
    "    def mul():\n",
    "        x=86\n",
    "        y=12\n",
    "        print(x*y)\n",
    "        print(\"__________________\")\n",
    "    mul()    "
   ]
  },
  {
   "cell_type": "code",
   "execution_count": 10,
   "metadata": {},
   "outputs": [
    {
     "name": "stdout",
     "output_type": "stream",
     "text": [
      "enter the value of a:25\n",
      "enter the value of b:49\n",
      "c= 74\n",
      "enter the value of x:98\n",
      "enter the value of y:41\n",
      "z= 2.3902439024390243\n",
      "***********************************\n",
      "enter the value of a:77\n",
      "enter the value of b:94\n",
      "c= 171\n",
      "enter the value of x:12\n",
      "enter the value of y:34\n",
      "z= 0.35294117647058826\n",
      "***********************************\n"
     ]
    }
   ],
   "source": [
    "for x in range(2):\n",
    "    def add():\n",
    "        a=int(input(\"enter the value of a:\"))\n",
    "        b=int(input(\"enter the value of b:\"))\n",
    "        print(\"c=\",a+b)\n",
    "    add()  \n",
    "    \n",
    "    def div():\n",
    "        x=int(input(\"enter the value of x:\"))\n",
    "        y=int(input(\"enter the value of y:\"))\n",
    "        print(\"z=\",x/y)\n",
    "        print(\"***********************************\")\n",
    "    div()    "
   ]
  },
  {
   "cell_type": "code",
   "execution_count": null,
   "metadata": {},
   "outputs": [],
   "source": []
  }
 ],
 "metadata": {
  "kernelspec": {
   "display_name": "Python 3",
   "language": "python",
   "name": "python3"
  },
  "language_info": {
   "codemirror_mode": {
    "name": "ipython",
    "version": 3
   },
   "file_extension": ".py",
   "mimetype": "text/x-python",
   "name": "python",
   "nbconvert_exporter": "python",
   "pygments_lexer": "ipython3",
   "version": "3.7.6"
  }
 },
 "nbformat": 4,
 "nbformat_minor": 4
}
