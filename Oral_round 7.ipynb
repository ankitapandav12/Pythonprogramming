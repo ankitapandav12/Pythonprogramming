{
 "cells": [
  {
   "cell_type": "code",
   "execution_count": 1,
   "id": "768989a6",
   "metadata": {},
   "outputs": [
    {
     "name": "stdout",
     "output_type": "stream",
     "text": [
      "Enter the student name....nik\n",
      "Enter the student mark....88\n",
      "Enter the student name....ira\n",
      "Enter the student mark....75\n",
      "Enter the student name....pooja\n",
      "Enter the student mark....65\n",
      "Enter the student name....komal\n",
      "Enter the student mark....43\n",
      "Enter the student name....isha\n",
      "Enter the student mark....63\n",
      "Enter the student name....dip\n",
      "Enter the student mark....45\n",
      "Enter the student name....say\n",
      "Enter the student mark....95\n",
      "Enter the student name....lila\n",
      "Enter the student mark....35\n",
      "Enter the student name....ganesh\n",
      "Enter the student mark....45\n",
      "Enter the student name....manali\n",
      "Enter the student mark....48\n",
      "Enter the student name....jishan\n",
      "Enter the student mark....33\n",
      "Enter the student name....aaru\n",
      "Enter the student mark....25\n",
      "Enter the student name....giya\n",
      "Enter the student mark....95\n",
      "Enter the student name....kuhu\n",
      "Enter the student mark....61\n",
      "Enter the student name....usha\n",
      "Enter the student mark....73\n",
      "[88, 75, 65, 43, 63, 45, 95, 35, 45, 48, 33, 25, 95, 61, 73]\n",
      "* * * * * * \n",
      "* * * * * * \n",
      "* * * * * * \n",
      "* * * * * * \n",
      "* * * * * * \n",
      "* * * * * * \n"
     ]
    }
   ],
   "source": [
    "colg=[\"JCJ\",\"SIT\",\"DKTE\"]\n",
    "marks=[]\n",
    "def pro():\n",
    "    for x in colg:\n",
    "        if x==\"JCJ\":  \n",
    "            for i in range(3):\n",
    "                a=input(\"Enter the student name....\")\n",
    "                b=int(input(\"Enter the student mark....\"))\n",
    "                marks.append(b)\n",
    "        elif x==\"SIT\":\n",
    "            for y in range(5):\n",
    "                c=input(\"Enter the student name....\")\n",
    "                d=int(input(\"Enter the student mark....\"))\n",
    "                marks.append(d)\n",
    "        else:\n",
    "            for z in range(7):\n",
    "                e=input(\"Enter the student name....\")\n",
    "                f=int(input(\"Enter the student mark....\"))\n",
    "                marks.append(f)\n",
    "    print(marks)\n",
    "   \n",
    "    if marks[5]%2==0:\n",
    "        for o in range(6):\n",
    "            for p in range(o+1):\n",
    "                print(\"*\",end=\" \")\n",
    "            print( )\n",
    "    else:\n",
    "        for l in range(6):\n",
    "            for k in range(6):\n",
    "                print(\"*\",end=\" \")\n",
    "            print( )\n",
    "pro()    \n"
   ]
  },
  {
   "cell_type": "code",
   "execution_count": 4,
   "id": "27ded317",
   "metadata": {},
   "outputs": [
    {
     "name": "stdout",
     "output_type": "stream",
     "text": [
      "['Dhiraj', 'Nikhil', 'Shiva', 'Darshan', 'Ajay', 'Bald Eagles', 'Penguins', 'Ducks', 'Kangaroos']\n",
      "['Nikita', 'Neha', 'Aaru', 'Shravni', 'Diksha', 'Cows', 'Elephants', 'Cat', 'Moose', 'Dogs', 'Lions']\n",
      "Count of legs.... 8\n",
      "Count of legs.... 24\n"
     ]
    }
   ],
   "source": [
    "ani=[\"Bald Eagles\",\"Penguins\",\"Cows\",\"Elephants\",\"Cat\",\"Ducks\",\"Kangaroos\",\"Moose\",\"Dogs\",\"Lions\",]\n",
    "girls=[\"Nikita\",\"Neha\",\"Aaru\",\"Shravni\",\"Diksha\"]\n",
    "boys=[\"Dhiraj\",\"Nikhil\",\"Shiva\",\"Darshan\",\"Ajay\"]\n",
    "legs1=[\"Bald Eagles\",\"Penguins\",\"Ducks\",\"Kangaroos\"]\n",
    "legs2=[\"Moose\",\"Dogs\",\"Lions\",\"Cows\",\"Elephants\",\"Cat\"]\n",
    "\n",
    "\n",
    "for x in ani:\n",
    "    for p in legs1:\n",
    "        if x==p:\n",
    "            boys.append(p)\n",
    "print(boys)\n",
    "\n",
    "for y in ani:\n",
    "    for n in legs2:\n",
    "        if y==n:\n",
    "            girls.append(n)\n",
    "print(girls)\n",
    "\n",
    "ab=len(legs1)*2\n",
    "print(\"Count of legs....\",ab)\n",
    "\n",
    "js=len(legs2)*4\n",
    "print(\"Count of legs....\",js)\n"
   ]
  },
  {
   "cell_type": "code",
   "execution_count": null,
   "id": "82b65894",
   "metadata": {},
   "outputs": [],
   "source": []
  },
  {
   "cell_type": "code",
   "execution_count": null,
   "id": "27339af9",
   "metadata": {},
   "outputs": [],
   "source": []
  }
 ],
 "metadata": {
  "kernelspec": {
   "display_name": "Python 3 (ipykernel)",
   "language": "python",
   "name": "python3"
  },
  "language_info": {
   "codemirror_mode": {
    "name": "ipython",
    "version": 3
   },
   "file_extension": ".py",
   "mimetype": "text/x-python",
   "name": "python",
   "nbconvert_exporter": "python",
   "pygments_lexer": "ipython3",
   "version": "3.9.12"
  }
 },
 "nbformat": 4,
 "nbformat_minor": 5
}
