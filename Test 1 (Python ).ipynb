{
 "cells": [
  {
   "cell_type": "code",
   "execution_count": 16,
   "metadata": {},
   "outputs": [
    {
     "name": "stdout",
     "output_type": "stream",
     "text": [
      "Enter name:Shreya\n",
      "Enter marks::78\n",
      "Enter marks::89\n",
      "Enter marks::90\n",
      "total marks: 257 Average 85.66666666666667\n",
      "Sorry to announce you might fail:: 85.66666666666667\n"
     ]
    }
   ],
   "source": [
    "stud = [\"Shreya\",\"Priya\",\"Renu\",\"Ankita\",\"Shruti\",\"Kajal\"]\n",
    "stud_3 = []\n",
    "stud_5 = []\n",
    "\n",
    "a = input(\"Enter name:\")\n",
    "for x in stud:\n",
    "    if a==x:\n",
    "        b=stud.index(a)\n",
    "        if b%2==0:\n",
    "            for y1 in range(3):\n",
    "                sub1 = int(input(\"Enter marks::\"))\n",
    "                stud_3.append(sub1)\n",
    "                total = sum(stud_3)\n",
    "                avg = total/len(stud_3)\n",
    "            print(\"total marks:\",total,\"Average\",avg)\n",
    "            if total%2==0:\n",
    "                print(\"Congratulations you have chance of getting pass::\",avg)\n",
    "            else:\n",
    "                print(\"Sorry to announce you might fail::\",avg)\n",
    "          \n",
    "        else:\n",
    "            for y2 in range(5):\n",
    "                sub2 = int(input(\"Enter marks::\"))\n",
    "                stud_5.append(sub2)\n",
    "                total = sum(stud_5)\n",
    "                avg = total/len(stud_5)\n",
    "            print(\"total marks:\",total,\"Average\",avg)\n",
    "            if total%2==0:\n",
    "                print(\"Congratulations you have chance of getting pass\",avg)\n",
    "            else:\n",
    "                print(\"Sorry to announce you might fail\",avg)"
   ]
  }
 ],
 "metadata": {
  "kernelspec": {
   "display_name": "Python 3",
   "language": "python",
   "name": "python3"
  },
  "language_info": {
   "codemirror_mode": {
    "name": "ipython",
    "version": 3
   },
   "file_extension": ".py",
   "mimetype": "text/x-python",
   "name": "python",
   "nbconvert_exporter": "python",
   "pygments_lexer": "ipython3",
   "version": "3.7.6"
  }
 },
 "nbformat": 4,
 "nbformat_minor": 5
}
