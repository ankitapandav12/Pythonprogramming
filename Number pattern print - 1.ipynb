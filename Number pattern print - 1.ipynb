{
 "cells": [
  {
   "cell_type": "markdown",
   "metadata": {},
   "source": [
    " # i=Rows & j=Columns\n",
    " # n=6     \n",
    " # 1.  i=0            \n",
    " #      j=i+1=1        \n",
    " #      j+1=1+1=1   \n",
    " #      print=2             "
   ]
  },
  {
   "cell_type": "markdown",
   "metadata": {},
   "source": [
    "# 1."
   ]
  },
  {
   "cell_type": "code",
   "execution_count": 31,
   "metadata": {
    "scrolled": true
   },
   "outputs": [
    {
     "name": "stdout",
     "output_type": "stream",
     "text": [
      "Enter the no.of rows..5\n",
      "1 \n",
      "1 2 \n",
      "1 2 3 \n",
      "1 2 3 4 \n",
      "1 2 3 4 5 \n"
     ]
    }
   ],
   "source": [
    "n=int(input(\"Enter the no.of rows..\"))        \n",
    "for i in range(n):                      \n",
    "    for j in range(i+1):                     \n",
    "        print(j+1,end=\" \")                  \n",
    "    print()                                      "
   ]
  },
  {
   "cell_type": "code",
   "execution_count": 7,
   "metadata": {},
   "outputs": [
    {
     "name": "stdout",
     "output_type": "stream",
     "text": [
      "Enter the no. of rows..5\n",
      "        1 \n",
      "      1 2 \n",
      "    1 2 3 \n",
      "  1 2 3 4 \n",
      "1 2 3 4 5 \n"
     ]
    }
   ],
   "source": [
    "n=int(input(\"Enter the no. of rows..\"))\n",
    "for i in range(n):\n",
    "    for j in range(n-i-1):\n",
    "        print(\" \",end=\" \")\n",
    "    for j in range(i+1):\n",
    "        print(j+1,end=\" \")\n",
    "    print()    "
   ]
  },
  {
   "cell_type": "markdown",
   "metadata": {},
   "source": [
    "# 2."
   ]
  },
  {
   "cell_type": "code",
   "execution_count": 15,
   "metadata": {},
   "outputs": [
    {
     "name": "stdout",
     "output_type": "stream",
     "text": [
      "Enter the no.of rows..5\n",
      "1 \n",
      "2 1 \n",
      "3 2 1 \n",
      "4 3 2 1 \n",
      "5 4 3 2 1 \n"
     ]
    }
   ],
   "source": [
    "n=int(input(\"Enter the no.of rows..\"))\n",
    "for i in range(n):\n",
    "    for j in range(i,-1,-1):         #(-1=minus column,-1=minus row)\n",
    "        print(j+1,end=\" \")\n",
    "    print()    \n",
    "    "
   ]
  },
  {
   "cell_type": "code",
   "execution_count": 8,
   "metadata": {},
   "outputs": [
    {
     "name": "stdout",
     "output_type": "stream",
     "text": [
      "Enter the no.of rows..5\n",
      "        1 \n",
      "      2 1 \n",
      "    3 2 1 \n",
      "  4 3 2 1 \n",
      "5 4 3 2 1 \n"
     ]
    }
   ],
   "source": [
    "n=int(input(\"Enter the no.of rows..\"))\n",
    "for i in range(n):\n",
    "    for j in range(n-i-1):\n",
    "        print(\" \",end=\" \")\n",
    "    for j in range(i,-1,-1):\n",
    "        print(j+1,end=\" \")\n",
    "    print()     "
   ]
  },
  {
   "cell_type": "markdown",
   "metadata": {},
   "source": [
    "# 3."
   ]
  },
  {
   "cell_type": "code",
   "execution_count": 4,
   "metadata": {},
   "outputs": [
    {
     "name": "stdout",
     "output_type": "stream",
     "text": [
      "Enter the no.of.rows..6\n",
      "1 \n",
      "2 2 \n",
      "3 3 3 \n",
      "4 4 4 4 \n",
      "5 5 5 5 5 \n",
      "6 6 6 6 6 6 \n"
     ]
    }
   ],
   "source": [
    "n=int(input(\"Enter the no.of.rows..\"))\n",
    "for i in range(n):\n",
    "    for j in range(i,-1,-1):         \n",
    "        print(i+1,end=\" \")\n",
    "    print()    "
   ]
  },
  {
   "cell_type": "code",
   "execution_count": 9,
   "metadata": {},
   "outputs": [
    {
     "name": "stdout",
     "output_type": "stream",
     "text": [
      "Enter the no.of.rows..6\n",
      "          1 \n",
      "        2 2 \n",
      "      3 3 3 \n",
      "    4 4 4 4 \n",
      "  5 5 5 5 5 \n",
      "6 6 6 6 6 6 \n"
     ]
    }
   ],
   "source": [
    "n=int(input(\"Enter the no.of.rows..\"))\n",
    "for i in range(n):\n",
    "    for j in range(n-i-1):\n",
    "        print(\" \",end=\" \")\n",
    "    for j in range(i,-1,-1):         \n",
    "        print(i+1,end=\" \")\n",
    "    print()    "
   ]
  },
  {
   "cell_type": "markdown",
   "metadata": {},
   "source": [
    "# 4."
   ]
  },
  {
   "cell_type": "code",
   "execution_count": 6,
   "metadata": {},
   "outputs": [
    {
     "name": "stdout",
     "output_type": "stream",
     "text": [
      "Enter the no.of rows..6\n",
      "6 \n",
      "5 5 \n",
      "4 4 4 \n",
      "3 3 3 3 \n",
      "2 2 2 2 2 \n",
      "1 1 1 1 1 1 \n"
     ]
    }
   ],
   "source": [
    "n=int(input(\"Enter the no.of rows..\"))\n",
    "for i in range(n):\n",
    "    for j in range(i+1):\n",
    "        print(n-i,end=\" \")\n",
    "    print()    "
   ]
  },
  {
   "cell_type": "code",
   "execution_count": 10,
   "metadata": {},
   "outputs": [
    {
     "name": "stdout",
     "output_type": "stream",
     "text": [
      "Enter the no.of rows..6\n",
      "          6 \n",
      "        5 5 \n",
      "      4 4 4 \n",
      "    3 3 3 3 \n",
      "  2 2 2 2 2 \n",
      "1 1 1 1 1 1 \n"
     ]
    }
   ],
   "source": [
    "n=int(input(\"Enter the no.of rows..\"))\n",
    "for i in range(n):\n",
    "    for j in range(n-i-1):\n",
    "        print(\" \",end=\" \")\n",
    "    for j in range(i+1):\n",
    "        print(n-i,end=\" \")\n",
    "    print()    "
   ]
  },
  {
   "cell_type": "markdown",
   "metadata": {},
   "source": [
    "# 5."
   ]
  },
  {
   "cell_type": "code",
   "execution_count": 8,
   "metadata": {},
   "outputs": [
    {
     "name": "stdout",
     "output_type": "stream",
     "text": [
      "Enter the no.of rows..6\n",
      "6 \n",
      "6 5 \n",
      "6 5 4 \n",
      "6 5 4 3 \n",
      "6 5 4 3 2 \n",
      "6 5 4 3 2 1 \n"
     ]
    }
   ],
   "source": [
    "n=int(input(\"Enter the no.of rows..\"))\n",
    "for i in range(n):\n",
    "    for j in range(i+1):\n",
    "        print(n-j,end=\" \")\n",
    "    print()   "
   ]
  },
  {
   "cell_type": "code",
   "execution_count": 11,
   "metadata": {},
   "outputs": [
    {
     "name": "stdout",
     "output_type": "stream",
     "text": [
      "Enter the no.of rows..6\n",
      "          6 \n",
      "        6 5 \n",
      "      6 5 4 \n",
      "    6 5 4 3 \n",
      "  6 5 4 3 2 \n",
      "6 5 4 3 2 1 \n"
     ]
    }
   ],
   "source": [
    "n=int(input(\"Enter the no.of rows..\"))\n",
    "for i in range(n):\n",
    "    for j in range(n-i-1):\n",
    "        print(\" \",end=\" \")\n",
    "    for j in range(i+1):\n",
    "        print(n-j,end=\" \")\n",
    "    print()   "
   ]
  },
  {
   "cell_type": "markdown",
   "metadata": {},
   "source": [
    "# 6."
   ]
  },
  {
   "cell_type": "code",
   "execution_count": 9,
   "metadata": {},
   "outputs": [
    {
     "name": "stdout",
     "output_type": "stream",
     "text": [
      "Enter the no.of rows..5\n",
      "5 \n",
      "4 5 \n",
      "3 4 5 \n",
      "2 3 4 5 \n",
      "1 2 3 4 5 \n"
     ]
    }
   ],
   "source": [
    "n=int(input(\"Enter the no.of rows..\"))\n",
    "for i in range(n):\n",
    "    for j in range(i,-1,-1):\n",
    "        print(n-j,end=\" \")\n",
    "    print()    "
   ]
  },
  {
   "cell_type": "code",
   "execution_count": 12,
   "metadata": {},
   "outputs": [
    {
     "name": "stdout",
     "output_type": "stream",
     "text": [
      "Enter the no.of rows..5\n",
      "        5 \n",
      "      4 5 \n",
      "    3 4 5 \n",
      "  2 3 4 5 \n",
      "1 2 3 4 5 \n"
     ]
    }
   ],
   "source": [
    "n=int(input(\"Enter the no.of rows..\"))\n",
    "for i in range(n):\n",
    "    for j in range(n-i-1):\n",
    "        print(\" \",end=\" \")\n",
    "    for j in range(i,-1,-1):\n",
    "        print(n-j,end=\" \")\n",
    "    print()    "
   ]
  },
  {
   "cell_type": "code",
   "execution_count": 29,
   "metadata": {},
   "outputs": [
    {
     "name": "stdout",
     "output_type": "stream",
     "text": [
      "Enter the no.of. rows:5\n",
      "1 \n",
      "1 2 \n",
      "1 2 3 \n",
      "1 2 3 4 \n",
      "1 2 3 4 5 \n"
     ]
    }
   ],
   "source": [
    "n = int(input(\"Enter the no.of. rows:\"))\n",
    "for i in range(n):\n",
    "    for j in range(i+1):\n",
    "        print(j+1,end=\" \")\n",
    "    print()    "
   ]
  },
  {
   "cell_type": "code",
   "execution_count": 28,
   "metadata": {
    "scrolled": true
   },
   "outputs": [
    {
     "name": "stdout",
     "output_type": "stream",
     "text": [
      "Enter the no.of. rows:6\n",
      "1 \n",
      "1 2 \n",
      "1 2 3 \n",
      "1 2 3 4 \n",
      "1 2 3 4 5 \n",
      "1 2 3 4 5 6 \n"
     ]
    }
   ],
   "source": [
    "n = int(input(\"Enter the no.of. rows:\"))\n",
    "for i in range(n):\n",
    "    for j in range(i+1):\n",
    "        print(j+1,end=\" \")\n",
    "    print()    "
   ]
  },
  {
   "cell_type": "code",
   "execution_count": 34,
   "metadata": {},
   "outputs": [
    {
     "name": "stdout",
     "output_type": "stream",
     "text": [
      "Enter the no.of. rows:6\n",
      "          1 \n",
      "        1 2 \n",
      "      1 2 3 \n",
      "    1 2 3 4 \n",
      "  1 2 3 4 5 \n",
      "1 2 3 4 5 6 \n"
     ]
    }
   ],
   "source": [
    "n = int(input(\"Enter the no.of. rows:\"))\n",
    "for i in range(n):\n",
    "    for j in range(n-i-1):\n",
    "        print(\" \",end=\" \")\n",
    "    for j in range(i+1):\n",
    "        print(j+1,end=\" \")\n",
    "    print()    "
   ]
  },
  {
   "cell_type": "code",
   "execution_count": 5,
   "metadata": {},
   "outputs": [],
   "source": [
    "even=[2,4,6,8,10,11,12,14]\n",
    "odd=0\n",
    "for val in even:\n",
    "    if val%2!=0:\n",
    "        odd=val\n",
    "        break\n",
    "        print(val)\n",
    "        print(\"odd value found\",odd)"
   ]
  },
  {
   "cell_type": "code",
   "execution_count": 2,
   "metadata": {},
   "outputs": [
    {
     "name": "stdout",
     "output_type": "stream",
     "text": [
      "11\n",
      "odd value found 11\n"
     ]
    }
   ],
   "source": [
    "even=[2,4,6,8,10,11,12,14]\n",
    "odd=0\n",
    "for val in even:\n",
    "    if val%2!=0:\n",
    "        odd=val\n",
    "        print(val)\n",
    "        print(\"odd value found\",odd)"
   ]
  },
  {
   "cell_type": "code",
   "execution_count": 4,
   "metadata": {},
   "outputs": [
    {
     "data": {
      "text/plain": [
       "0"
      ]
     },
     "execution_count": 4,
     "metadata": {},
     "output_type": "execute_result"
    }
   ],
   "source": [
    "a=4\n",
    "b=2\n",
    "a%b"
   ]
  },
  {
   "cell_type": "code",
   "execution_count": null,
   "metadata": {},
   "outputs": [],
   "source": []
  }
 ],
 "metadata": {
  "kernelspec": {
   "display_name": "Python 3",
   "language": "python",
   "name": "python3"
  },
  "language_info": {
   "codemirror_mode": {
    "name": "ipython",
    "version": 3
   },
   "file_extension": ".py",
   "mimetype": "text/x-python",
   "name": "python",
   "nbconvert_exporter": "python",
   "pygments_lexer": "ipython3",
   "version": "3.7.6"
  }
 },
 "nbformat": 4,
 "nbformat_minor": 4
}
