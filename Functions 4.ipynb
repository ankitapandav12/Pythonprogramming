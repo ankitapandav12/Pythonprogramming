{
 "cells": [
  {
   "cell_type": "code",
   "execution_count": 1,
   "metadata": {},
   "outputs": [],
   "source": [
    "# Function with argument & Function with return :\n"
   ]
  },
  {
   "cell_type": "code",
   "execution_count": 1,
   "metadata": {},
   "outputs": [
    {
     "name": "stdout",
     "output_type": "stream",
     "text": [
      "enter the value of a:45\n",
      "enter the value of b:25\n"
     ]
    },
    {
     "data": {
      "text/plain": [
       "70"
      ]
     },
     "execution_count": 1,
     "metadata": {},
     "output_type": "execute_result"
    }
   ],
   "source": [
    "def add(a,b):\n",
    "    c=a+b\n",
    "    return c\n",
    "a=int(input(\"enter the value of a:\"))\n",
    "b=int(input(\"enter the value of b:\"))\n",
    "add(a,b)"
   ]
  },
  {
   "cell_type": "code",
   "execution_count": 2,
   "metadata": {},
   "outputs": [
    {
     "name": "stdout",
     "output_type": "stream",
     "text": [
      "enter the value of a:75\n",
      "enter the value of b:14\n"
     ]
    },
    {
     "data": {
      "text/plain": [
       "61"
      ]
     },
     "execution_count": 2,
     "metadata": {},
     "output_type": "execute_result"
    }
   ],
   "source": [
    "def sub(a,b):\n",
    "    a=int(input(\"enter the value of a:\"))\n",
    "    b=int(input(\"enter the value of b:\"))\n",
    "    return a-b\n",
    "sub(a,b)"
   ]
  },
  {
   "cell_type": "code",
   "execution_count": 3,
   "metadata": {},
   "outputs": [
    {
     "name": "stdout",
     "output_type": "stream",
     "text": [
      "enter the value of a:45\n",
      "enter the value of b:45\n"
     ]
    },
    {
     "data": {
      "text/plain": [
       "2025"
      ]
     },
     "execution_count": 3,
     "metadata": {},
     "output_type": "execute_result"
    }
   ],
   "source": [
    "def mul(a,b):\n",
    "    a=int(input(\"enter the value of a:\"))\n",
    "    b=int(input(\"enter the value of b:\"))\n",
    "    return a*b\n",
    "mul(a,b)"
   ]
  },
  {
   "cell_type": "code",
   "execution_count": 16,
   "metadata": {},
   "outputs": [
    {
     "name": "stdout",
     "output_type": "stream",
     "text": [
      "enter the name:ankita \n",
      "enter the email_id:ank123\n",
      "enter the password:456\n",
      "ankita  ank123 456\n",
      "________________________\n",
      "enter the name:kajal\n",
      "enter the email_id:kaj752\n",
      "enter the password:963\n",
      "kajal kaj752 963\n",
      "________________________\n"
     ]
    }
   ],
   "source": [
    "for x in range(2):\n",
    "    def info():\n",
    "        name=input(\"enter the name:\")\n",
    "        email_id=input(\"enter the email_id:\")\n",
    "        password=int(input(\"enter the password:\"))\n",
    "        print(name,email_id,password)\n",
    "        print(\"________________________\")\n",
    "    info()    "
   ]
  },
  {
   "cell_type": "code",
   "execution_count": 17,
   "metadata": {},
   "outputs": [
    {
     "name": "stdout",
     "output_type": "stream",
     "text": [
      "enter the name:ankita\n",
      "enter the mobile_number:756314\n",
      "enter the birth_date:december,12\n",
      "enter the city_name:pune\n",
      "NAME= ankita MOBILE_NUMBER= 756314 BIRTH_DATE= december,12 CITY_NAME= pune\n",
      "________________________________________________________________________________________________\n",
      "enter the name:kajal\n",
      "enter the mobile_number:85244\n",
      "enter the birth_date:may,07\n",
      "enter the city_name:pune\n",
      "NAME= kajal MOBILE_NUMBER= 85244 BIRTH_DATE= may,07 CITY_NAME= pune\n",
      "________________________________________________________________________________________________\n"
     ]
    }
   ],
   "source": [
    "for x in range(2):\n",
    "    def self_info():\n",
    "        Name=input(\"enter the name:\")\n",
    "        Mobile_number=int(input(\"enter the mobile_number:\"))\n",
    "        Birth_date=input(\"enter the birth_date:\")\n",
    "        City_name=input(\"enter the city_name:\")\n",
    "        print(\"NAME=\",Name,\"MOBILE_NUMBER=\",Mobile_number,\"BIRTH_DATE=\",Birth_date,\"CITY_NAME=\",City_name)\n",
    "        print(\"________________________________________________________________________________________________\")\n",
    "    self_info()    \n",
    "    "
   ]
  },
  {
   "cell_type": "code",
   "execution_count": null,
   "metadata": {},
   "outputs": [],
   "source": []
  }
 ],
 "metadata": {
  "kernelspec": {
   "display_name": "Python 3",
   "language": "python",
   "name": "python3"
  },
  "language_info": {
   "codemirror_mode": {
    "name": "ipython",
    "version": 3
   },
   "file_extension": ".py",
   "mimetype": "text/x-python",
   "name": "python",
   "nbconvert_exporter": "python",
   "pygments_lexer": "ipython3",
   "version": "3.7.6"
  }
 },
 "nbformat": 4,
 "nbformat_minor": 4
}
